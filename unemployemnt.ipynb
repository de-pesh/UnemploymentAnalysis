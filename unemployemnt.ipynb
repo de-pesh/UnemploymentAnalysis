{
 "cells": [
  {
   "cell_type": "markdown",
   "metadata": {},
   "source": [
    "# imports"
   ]
  },
  {
   "cell_type": "code",
   "execution_count": 96,
   "metadata": {},
   "outputs": [],
   "source": [
    "import pandas as pd\n",
    "import matplotlib.pyplot as plt\n",
    "import seaborn as sns\n",
    "import plotly.express as px"
   ]
  },
  {
   "cell_type": "markdown",
   "metadata": {},
   "source": [
    "# read csv"
   ]
  },
  {
   "cell_type": "code",
   "execution_count": 21,
   "metadata": {},
   "outputs": [],
   "source": [
    "india = pd.read_csv(\"Unemployment in India.csv\")"
   ]
  },
  {
   "cell_type": "markdown",
   "metadata": {},
   "source": [
    "# data exploration"
   ]
  },
  {
   "cell_type": "code",
   "execution_count": 22,
   "metadata": {},
   "outputs": [
    {
     "name": "stdout",
     "output_type": "stream",
     "text": [
      "Region\n",
      " Date\n",
      " Frequency\n",
      " Estimated Unemployment Rate (%)\n",
      " Estimated Employed\n",
      " Estimated Labour Participation Rate (%)\n",
      "Area\n"
     ]
    }
   ],
   "source": [
    "for c in india.columns:\n",
    "    print(c)"
   ]
  },
  {
   "cell_type": "code",
   "execution_count": 23,
   "metadata": {},
   "outputs": [
    {
     "data": {
      "text/html": [
       "<div>\n",
       "<style scoped>\n",
       "    .dataframe tbody tr th:only-of-type {\n",
       "        vertical-align: middle;\n",
       "    }\n",
       "\n",
       "    .dataframe tbody tr th {\n",
       "        vertical-align: top;\n",
       "    }\n",
       "\n",
       "    .dataframe thead th {\n",
       "        text-align: right;\n",
       "    }\n",
       "</style>\n",
       "<table border=\"1\" class=\"dataframe\">\n",
       "  <thead>\n",
       "    <tr style=\"text-align: right;\">\n",
       "      <th></th>\n",
       "      <th>Region</th>\n",
       "      <th>Date</th>\n",
       "      <th>Frequency</th>\n",
       "      <th>Estimated Unemployment Rate (%)</th>\n",
       "      <th>Estimated Employed</th>\n",
       "      <th>Estimated Labour Participation Rate (%)</th>\n",
       "      <th>Area</th>\n",
       "    </tr>\n",
       "  </thead>\n",
       "  <tbody>\n",
       "    <tr>\n",
       "      <th>0</th>\n",
       "      <td>Andhra Pradesh</td>\n",
       "      <td>31-05-2019</td>\n",
       "      <td>Monthly</td>\n",
       "      <td>3.65</td>\n",
       "      <td>11999139.0</td>\n",
       "      <td>43.24</td>\n",
       "      <td>Rural</td>\n",
       "    </tr>\n",
       "    <tr>\n",
       "      <th>1</th>\n",
       "      <td>Andhra Pradesh</td>\n",
       "      <td>30-06-2019</td>\n",
       "      <td>Monthly</td>\n",
       "      <td>3.05</td>\n",
       "      <td>11755881.0</td>\n",
       "      <td>42.05</td>\n",
       "      <td>Rural</td>\n",
       "    </tr>\n",
       "    <tr>\n",
       "      <th>2</th>\n",
       "      <td>Andhra Pradesh</td>\n",
       "      <td>31-07-2019</td>\n",
       "      <td>Monthly</td>\n",
       "      <td>3.75</td>\n",
       "      <td>12086707.0</td>\n",
       "      <td>43.50</td>\n",
       "      <td>Rural</td>\n",
       "    </tr>\n",
       "    <tr>\n",
       "      <th>3</th>\n",
       "      <td>Andhra Pradesh</td>\n",
       "      <td>31-08-2019</td>\n",
       "      <td>Monthly</td>\n",
       "      <td>3.32</td>\n",
       "      <td>12285693.0</td>\n",
       "      <td>43.97</td>\n",
       "      <td>Rural</td>\n",
       "    </tr>\n",
       "    <tr>\n",
       "      <th>4</th>\n",
       "      <td>Andhra Pradesh</td>\n",
       "      <td>30-09-2019</td>\n",
       "      <td>Monthly</td>\n",
       "      <td>5.17</td>\n",
       "      <td>12256762.0</td>\n",
       "      <td>44.68</td>\n",
       "      <td>Rural</td>\n",
       "    </tr>\n",
       "  </tbody>\n",
       "</table>\n",
       "</div>"
      ],
      "text/plain": [
       "           Region         Date  Frequency   Estimated Unemployment Rate (%)   \n",
       "0  Andhra Pradesh   31-05-2019    Monthly                              3.65  \\\n",
       "1  Andhra Pradesh   30-06-2019    Monthly                              3.05   \n",
       "2  Andhra Pradesh   31-07-2019    Monthly                              3.75   \n",
       "3  Andhra Pradesh   31-08-2019    Monthly                              3.32   \n",
       "4  Andhra Pradesh   30-09-2019    Monthly                              5.17   \n",
       "\n",
       "    Estimated Employed   Estimated Labour Participation Rate (%)   Area  \n",
       "0           11999139.0                                     43.24  Rural  \n",
       "1           11755881.0                                     42.05  Rural  \n",
       "2           12086707.0                                     43.50  Rural  \n",
       "3           12285693.0                                     43.97  Rural  \n",
       "4           12256762.0                                     44.68  Rural  "
      ]
     },
     "execution_count": 23,
     "metadata": {},
     "output_type": "execute_result"
    }
   ],
   "source": [
    "india.head()"
   ]
  },
  {
   "cell_type": "code",
   "execution_count": 24,
   "metadata": {},
   "outputs": [
    {
     "data": {
      "text/plain": [
       "(768, 7)"
      ]
     },
     "execution_count": 24,
     "metadata": {},
     "output_type": "execute_result"
    }
   ],
   "source": [
    "india.shape"
   ]
  },
  {
   "cell_type": "code",
   "execution_count": 25,
   "metadata": {},
   "outputs": [
    {
     "name": "stdout",
     "output_type": "stream",
     "text": [
      "<class 'pandas.core.frame.DataFrame'>\n",
      "RangeIndex: 768 entries, 0 to 767\n",
      "Data columns (total 7 columns):\n",
      " #   Column                                    Non-Null Count  Dtype  \n",
      "---  ------                                    --------------  -----  \n",
      " 0   Region                                    740 non-null    object \n",
      " 1    Date                                     740 non-null    object \n",
      " 2    Frequency                                740 non-null    object \n",
      " 3    Estimated Unemployment Rate (%)          740 non-null    float64\n",
      " 4    Estimated Employed                       740 non-null    float64\n",
      " 5    Estimated Labour Participation Rate (%)  740 non-null    float64\n",
      " 6   Area                                      740 non-null    object \n",
      "dtypes: float64(3), object(4)\n",
      "memory usage: 42.1+ KB\n"
     ]
    }
   ],
   "source": [
    "india.info()"
   ]
  },
  {
   "cell_type": "code",
   "execution_count": 26,
   "metadata": {},
   "outputs": [
    {
     "data": {
      "text/html": [
       "<div>\n",
       "<style scoped>\n",
       "    .dataframe tbody tr th:only-of-type {\n",
       "        vertical-align: middle;\n",
       "    }\n",
       "\n",
       "    .dataframe tbody tr th {\n",
       "        vertical-align: top;\n",
       "    }\n",
       "\n",
       "    .dataframe thead th {\n",
       "        text-align: right;\n",
       "    }\n",
       "</style>\n",
       "<table border=\"1\" class=\"dataframe\">\n",
       "  <thead>\n",
       "    <tr style=\"text-align: right;\">\n",
       "      <th></th>\n",
       "      <th>Estimated Unemployment Rate (%)</th>\n",
       "      <th>Estimated Employed</th>\n",
       "      <th>Estimated Labour Participation Rate (%)</th>\n",
       "    </tr>\n",
       "  </thead>\n",
       "  <tbody>\n",
       "    <tr>\n",
       "      <th>count</th>\n",
       "      <td>740.000000</td>\n",
       "      <td>7.400000e+02</td>\n",
       "      <td>740.000000</td>\n",
       "    </tr>\n",
       "    <tr>\n",
       "      <th>mean</th>\n",
       "      <td>11.787946</td>\n",
       "      <td>7.204460e+06</td>\n",
       "      <td>42.630122</td>\n",
       "    </tr>\n",
       "    <tr>\n",
       "      <th>std</th>\n",
       "      <td>10.721298</td>\n",
       "      <td>8.087988e+06</td>\n",
       "      <td>8.111094</td>\n",
       "    </tr>\n",
       "    <tr>\n",
       "      <th>min</th>\n",
       "      <td>0.000000</td>\n",
       "      <td>4.942000e+04</td>\n",
       "      <td>13.330000</td>\n",
       "    </tr>\n",
       "    <tr>\n",
       "      <th>25%</th>\n",
       "      <td>4.657500</td>\n",
       "      <td>1.190404e+06</td>\n",
       "      <td>38.062500</td>\n",
       "    </tr>\n",
       "    <tr>\n",
       "      <th>50%</th>\n",
       "      <td>8.350000</td>\n",
       "      <td>4.744178e+06</td>\n",
       "      <td>41.160000</td>\n",
       "    </tr>\n",
       "    <tr>\n",
       "      <th>75%</th>\n",
       "      <td>15.887500</td>\n",
       "      <td>1.127549e+07</td>\n",
       "      <td>45.505000</td>\n",
       "    </tr>\n",
       "    <tr>\n",
       "      <th>max</th>\n",
       "      <td>76.740000</td>\n",
       "      <td>4.577751e+07</td>\n",
       "      <td>72.570000</td>\n",
       "    </tr>\n",
       "  </tbody>\n",
       "</table>\n",
       "</div>"
      ],
      "text/plain": [
       "        Estimated Unemployment Rate (%)   Estimated Employed   \n",
       "count                        740.000000         7.400000e+02  \\\n",
       "mean                          11.787946         7.204460e+06   \n",
       "std                           10.721298         8.087988e+06   \n",
       "min                            0.000000         4.942000e+04   \n",
       "25%                            4.657500         1.190404e+06   \n",
       "50%                            8.350000         4.744178e+06   \n",
       "75%                           15.887500         1.127549e+07   \n",
       "max                           76.740000         4.577751e+07   \n",
       "\n",
       "        Estimated Labour Participation Rate (%)  \n",
       "count                                740.000000  \n",
       "mean                                  42.630122  \n",
       "std                                    8.111094  \n",
       "min                                   13.330000  \n",
       "25%                                   38.062500  \n",
       "50%                                   41.160000  \n",
       "75%                                   45.505000  \n",
       "max                                   72.570000  "
      ]
     },
     "execution_count": 26,
     "metadata": {},
     "output_type": "execute_result"
    }
   ],
   "source": [
    "india.describe()"
   ]
  },
  {
   "cell_type": "markdown",
   "metadata": {},
   "source": [
    "# data cleaning"
   ]
  },
  {
   "cell_type": "code",
   "execution_count": 27,
   "metadata": {},
   "outputs": [
    {
     "data": {
      "text/plain": [
       "Region                                      28\n",
       " Date                                       28\n",
       " Frequency                                  28\n",
       " Estimated Unemployment Rate (%)            28\n",
       " Estimated Employed                         28\n",
       " Estimated Labour Participation Rate (%)    28\n",
       "Area                                        28\n",
       "dtype: int64"
      ]
     },
     "execution_count": 27,
     "metadata": {},
     "output_type": "execute_result"
    }
   ],
   "source": [
    "india.isnull().sum()"
   ]
  },
  {
   "cell_type": "code",
   "execution_count": 28,
   "metadata": {},
   "outputs": [],
   "source": [
    "india = india.dropna()"
   ]
  },
  {
   "cell_type": "code",
   "execution_count": 29,
   "metadata": {},
   "outputs": [],
   "source": [
    "india = india.drop_duplicates()"
   ]
  },
  {
   "cell_type": "code",
   "execution_count": 30,
   "metadata": {},
   "outputs": [
    {
     "data": {
      "text/plain": [
       "Region                                      0\n",
       " Date                                       0\n",
       " Frequency                                  0\n",
       " Estimated Unemployment Rate (%)            0\n",
       " Estimated Employed                         0\n",
       " Estimated Labour Participation Rate (%)    0\n",
       "Area                                        0\n",
       "dtype: int64"
      ]
     },
     "execution_count": 30,
     "metadata": {},
     "output_type": "execute_result"
    }
   ],
   "source": [
    "india.isna().sum()"
   ]
  },
  {
   "cell_type": "code",
   "execution_count": 31,
   "metadata": {},
   "outputs": [
    {
     "data": {
      "text/plain": [
       "array([' Monthly', 'Monthly'], dtype=object)"
      ]
     },
     "execution_count": 31,
     "metadata": {},
     "output_type": "execute_result"
    }
   ],
   "source": [
    "india[' Frequency'].unique()"
   ]
  },
  {
   "cell_type": "code",
   "execution_count": 32,
   "metadata": {},
   "outputs": [
    {
     "data": {
      "text/plain": [
       "Region                                      0\n",
       " Date                                       0\n",
       " Frequency                                  0\n",
       " Estimated Unemployment Rate (%)            0\n",
       " Estimated Employed                         0\n",
       " Estimated Labour Participation Rate (%)    0\n",
       "Area                                        0\n",
       "dtype: int64"
      ]
     },
     "execution_count": 32,
     "metadata": {},
     "output_type": "execute_result"
    }
   ],
   "source": [
    "india.isna().sum()"
   ]
  },
  {
   "cell_type": "code",
   "execution_count": 33,
   "metadata": {},
   "outputs": [
    {
     "data": {
      "text/plain": [
       "array(['Rural', 'Urban'], dtype=object)"
      ]
     },
     "execution_count": 33,
     "metadata": {},
     "output_type": "execute_result"
    }
   ],
   "source": [
    "india['Area'].unique()"
   ]
  },
  {
   "cell_type": "markdown",
   "metadata": {},
   "source": [
    "# analysis"
   ]
  },
  {
   "cell_type": "code",
   "execution_count": 93,
   "metadata": {},
   "outputs": [
    {
     "data": {
      "text/plain": [
       "<function matplotlib.pyplot.show(close=None, block=None)>"
      ]
     },
     "execution_count": 93,
     "metadata": {},
     "output_type": "execute_result"
    },
    {
     "data": {
      "image/png": "[encoded data removed]",
      "text/plain": [
       "<Figure size 1000x600 with 1 Axes>"
      ]
     },
     "metadata": {},
     "output_type": "display_data"
    }
   ],
   "source": [
    "Employed = india[' Estimated Employed'].iloc[:100]\n",
    "Unemployed = india[' Estimated Unemployment Rate (%)'].iloc[:100]\n",
    "\n",
    "Employed = (Employed - Employed.min())/(Employed.max() - Employed.min()) * 19 + 1\n",
    "\n",
    "plt.figure(figsize=(10,6))\n",
    "plt.plot(Employed, label='Employed', color='blue')\n",
    "plt.plot(Unemployed, label='Unemployed', color='green')\n",
    "plt.legend()\n",
    "plt.show"
   ]
  },
  {
   "cell_type": "code",
   "execution_count": 49,
   "metadata": {},
   "outputs": [],
   "source": [
    "group = india.groupby(['Region','Area']).agg({' Estimated Unemployment Rate (%)': 'mean'})"
   ]
  },
  {
   "cell_type": "code",
   "execution_count": 69,
   "metadata": {},
   "outputs": [
    {
     "data": {
      "text/html": [
       "<style type=\"text/css\">\n",
       "#T_76353_row0_col0 {\n",
       "  width: 10em;\n",
       "  background: linear-gradient(90deg, lightgreen 18.7%, transparent 18.7%);\n",
       "}\n",
       "#T_76353_row1_col0 {\n",
       "  width: 10em;\n",
       "  background: linear-gradient(90deg, lightgreen 31.9%, transparent 31.9%);\n",
       "}\n",
       "#T_76353_row2_col0 {\n",
       "  width: 10em;\n",
       "  background: linear-gradient(90deg, lightgreen 15.2%, transparent 15.2%);\n",
       "}\n",
       "#T_76353_row3_col0 {\n",
       "  width: 10em;\n",
       "  background: linear-gradient(90deg, lightgreen 27.4%, transparent 27.4%);\n",
       "}\n",
       "#T_76353_row4_col0 {\n",
       "  width: 10em;\n",
       "  background: linear-gradient(90deg, lightgreen 56.8%, transparent 56.8%);\n",
       "}\n",
       "#T_76353_row5_col0 {\n",
       "  width: 10em;\n",
       "  background: linear-gradient(90deg, lightgreen 71.3%, transparent 71.3%);\n",
       "}\n",
       "#T_76353_row6_col0 {\n",
       "  width: 10em;\n",
       "  background: linear-gradient(90deg, lightgreen 54.1%, transparent 54.1%);\n",
       "}\n",
       "#T_76353_row7_col0, #T_76353_row33_col0 {\n",
       "  width: 10em;\n",
       "  background: linear-gradient(90deg, lightgreen 22.4%, transparent 22.4%);\n",
       "}\n",
       "#T_76353_row8_col0 {\n",
       "  width: 10em;\n",
       "  background: linear-gradient(90deg, lightgreen 40.1%, transparent 40.1%);\n",
       "}\n",
       "#T_76353_row9_col0 {\n",
       "  width: 10em;\n",
       "  background: linear-gradient(90deg, lightgreen 51.7%, transparent 51.7%);\n",
       "}\n",
       "#T_76353_row10_col0 {\n",
       "  width: 10em;\n",
       "  background: linear-gradient(90deg, lightgreen 60.0%, transparent 60.0%);\n",
       "}\n",
       "#T_76353_row11_col0 {\n",
       "  width: 10em;\n",
       "  background: linear-gradient(90deg, lightgreen 28.4%, transparent 28.4%);\n",
       "}\n",
       "#T_76353_row12_col0 {\n",
       "  width: 10em;\n",
       "  background: linear-gradient(90deg, lightgreen 34.4%, transparent 34.4%);\n",
       "}\n",
       "#T_76353_row13_col0 {\n",
       "  width: 10em;\n",
       "  background: linear-gradient(90deg, lightgreen 20.0%, transparent 20.0%);\n",
       "}\n",
       "#T_76353_row14_col0 {\n",
       "  width: 10em;\n",
       "  background: linear-gradient(90deg, lightgreen 25.1%, transparent 25.1%);\n",
       "}\n",
       "#T_76353_row15_col0 {\n",
       "  width: 10em;\n",
       "  background: linear-gradient(90deg, lightgreen 84.7%, transparent 84.7%);\n",
       "}\n",
       "#T_76353_row16_col0 {\n",
       "  width: 10em;\n",
       "  background: linear-gradient(90deg, lightgreen 93.3%, transparent 93.3%);\n",
       "}\n",
       "#T_76353_row17_col0 {\n",
       "  width: 10em;\n",
       "  background: linear-gradient(90deg, lightgreen 52.5%, transparent 52.5%);\n",
       "}\n",
       "#T_76353_row18_col0 {\n",
       "  width: 10em;\n",
       "  background: linear-gradient(90deg, lightgreen 73.1%, transparent 73.1%);\n",
       "}\n",
       "#T_76353_row19_col0 {\n",
       "  width: 10em;\n",
       "  background: linear-gradient(90deg, lightgreen 50.6%, transparent 50.6%);\n",
       "}\n",
       "#T_76353_row20_col0 {\n",
       "  width: 10em;\n",
       "  background: linear-gradient(90deg, lightgreen 59.4%, transparent 59.4%);\n",
       "}\n",
       "#T_76353_row21_col0 {\n",
       "  width: 10em;\n",
       "  background: linear-gradient(90deg, lightgreen 51.5%, transparent 51.5%);\n",
       "}\n",
       "#T_76353_row22_col0 {\n",
       "  width: 10em;\n",
       "  background: linear-gradient(90deg, lightgreen 87.9%, transparent 87.9%);\n",
       "}\n",
       "#T_76353_row23_col0 {\n",
       "  width: 10em;\n",
       "  background: linear-gradient(90deg, lightgreen 24.5%, transparent 24.5%);\n",
       "}\n",
       "#T_76353_row24_col0 {\n",
       "  width: 10em;\n",
       "  background: linear-gradient(90deg, lightgreen 20.7%, transparent 20.7%);\n",
       "}\n",
       "#T_76353_row25_col0 {\n",
       "  width: 10em;\n",
       "  background: linear-gradient(90deg, lightgreen 35.0%, transparent 35.0%);\n",
       "}\n",
       "#T_76353_row26_col0 {\n",
       "  width: 10em;\n",
       "  background: linear-gradient(90deg, lightgreen 33.5%, transparent 33.5%);\n",
       "}\n",
       "#T_76353_row27_col0 {\n",
       "  width: 10em;\n",
       "  background: linear-gradient(90deg, lightgreen 19.1%, transparent 19.1%);\n",
       "}\n",
       "#T_76353_row28_col0 {\n",
       "  width: 10em;\n",
       "  background: linear-gradient(90deg, lightgreen 31.0%, transparent 31.0%);\n",
       "}\n",
       "#T_76353_row29_col0 {\n",
       "  width: 10em;\n",
       "  background: linear-gradient(90deg, lightgreen 23.1%, transparent 23.1%);\n",
       "}\n",
       "#T_76353_row30_col0 {\n",
       "  width: 10em;\n",
       "  background: linear-gradient(90deg, lightgreen 28.1%, transparent 28.1%);\n",
       "}\n",
       "#T_76353_row31_col0 {\n",
       "  width: 10em;\n",
       "  background: linear-gradient(90deg, lightgreen 8.4%, transparent 8.4%);\n",
       "}\n",
       "#T_76353_row32_col0 {\n",
       "  width: 10em;\n",
       "  background: linear-gradient(90deg, lightgreen 24.7%, transparent 24.7%);\n",
       "}\n",
       "#T_76353_row34_col0 {\n",
       "  width: 10em;\n",
       "  background: linear-gradient(90deg, lightgreen 15.9%, transparent 15.9%);\n",
       "}\n",
       "#T_76353_row35_col0 {\n",
       "  width: 10em;\n",
       "  background: linear-gradient(90deg, lightgreen 24.6%, transparent 24.6%);\n",
       "}\n",
       "#T_76353_row36_col0 {\n",
       "  width: 10em;\n",
       "  background: linear-gradient(90deg, lightgreen 43.2%, transparent 43.2%);\n",
       "}\n",
       "#T_76353_row37_col0 {\n",
       "  width: 10em;\n",
       "  background: linear-gradient(90deg, lightgreen 40.4%, transparent 40.4%);\n",
       "}\n",
       "#T_76353_row38_col0 {\n",
       "  width: 10em;\n",
       "  background: linear-gradient(90deg, lightgreen 41.1%, transparent 41.1%);\n",
       "}\n",
       "#T_76353_row39_col0 {\n",
       "  width: 10em;\n",
       "  background: linear-gradient(90deg, lightgreen 37.0%, transparent 37.0%);\n",
       "}\n",
       "#T_76353_row40_col0 {\n",
       "  width: 10em;\n",
       "  background: linear-gradient(90deg, lightgreen 58.2%, transparent 58.2%);\n",
       "}\n",
       "#T_76353_row41_col0 {\n",
       "  width: 10em;\n",
       "  background: linear-gradient(90deg, lightgreen 17.2%, transparent 17.2%);\n",
       "}\n",
       "#T_76353_row42_col0, #T_76353_row52_col0 {\n",
       "  width: 10em;\n",
       "  background: linear-gradient(90deg, lightgreen 27.6%, transparent 27.6%);\n",
       "}\n",
       "#T_76353_row43_col0 {\n",
       "  width: 10em;\n",
       "  background: linear-gradient(90deg, lightgreen 29.7%, transparent 29.7%);\n",
       "}\n",
       "#T_76353_row44_col0 {\n",
       "  width: 10em;\n",
       "  background: linear-gradient(90deg, lightgreen 33.2%, transparent 33.2%);\n",
       "}\n",
       "#T_76353_row45_col0 {\n",
       "  width: 10em;\n",
       "  background: linear-gradient(90deg, lightgreen 26.6%, transparent 26.6%);\n",
       "}\n",
       "#T_76353_row46_col0 {\n",
       "  width: 10em;\n",
       "  background: linear-gradient(90deg, lightgreen 25.8%, transparent 25.8%);\n",
       "}\n",
       "#T_76353_row47_col0 {\n",
       "  width: 10em;\n",
       "  background: linear-gradient(90deg, lightgreen 92.0%, transparent 92.0%);\n",
       "}\n",
       "#T_76353_row48_col0 {\n",
       "  width: 10em;\n",
       "  background: linear-gradient(90deg, lightgreen 100.0%, transparent 100.0%);\n",
       "}\n",
       "#T_76353_row49_col0 {\n",
       "  width: 10em;\n",
       "  background: linear-gradient(90deg, lightgreen 34.6%, transparent 34.6%);\n",
       "}\n",
       "#T_76353_row50_col0 {\n",
       "  width: 10em;\n",
       "  background: linear-gradient(90deg, lightgreen 50.4%, transparent 50.4%);\n",
       "}\n",
       "#T_76353_row51_col0 {\n",
       "  width: 10em;\n",
       "  background: linear-gradient(90deg, lightgreen 16.5%, transparent 16.5%);\n",
       "}\n",
       "#T_76353_row53_col0 {\n",
       "  width: 10em;\n",
       "  background: linear-gradient(90deg, lightgreen 25.6%, transparent 25.6%);\n",
       "}\n",
       "#T_76353_row54_col0 {\n",
       "  width: 10em;\n",
       "  background: linear-gradient(90deg, lightgreen 29.4%, transparent 29.4%);\n",
       "}\n",
       "</style>\n",
       "<table id=\"T_76353\">\n",
       "  <thead>\n",
       "    <tr>\n",
       "      <th class=\"blank\" >&nbsp;</th>\n",
       "      <th class=\"blank level0\" >&nbsp;</th>\n",
       "      <th id=\"T_76353_level0_col0\" class=\"col_heading level0 col0\" > Estimated Unemployment Rate (%)</th>\n",
       "    </tr>\n",
       "    <tr>\n",
       "      <th class=\"index_name level0\" >Region</th>\n",
       "      <th class=\"index_name level1\" >Area</th>\n",
       "      <th class=\"blank col0\" >&nbsp;</th>\n",
       "    </tr>\n",
       "  </thead>\n",
       "  <tbody>\n",
       "    <tr>\n",
       "      <th id=\"T_76353_level0_row0\" class=\"row_heading level0 row0\" rowspan=\"2\">Andhra Pradesh</th>\n",
       "      <th id=\"T_76353_level1_row0\" class=\"row_heading level1 row0\" >Rural</th>\n",
       "      <td id=\"T_76353_row0_col0\" class=\"data row0 col0\" >5.526429</td>\n",
       "    </tr>\n",
       "    <tr>\n",
       "      <th id=\"T_76353_level1_row1\" class=\"row_heading level1 row1\" >Urban</th>\n",
       "      <td id=\"T_76353_row1_col0\" class=\"data row1 col0\" >9.427857</td>\n",
       "    </tr>\n",
       "    <tr>\n",
       "      <th id=\"T_76353_level0_row2\" class=\"row_heading level0 row2\" rowspan=\"2\">Assam</th>\n",
       "      <th id=\"T_76353_level1_row2\" class=\"row_heading level1 row2\" >Rural</th>\n",
       "      <td id=\"T_76353_row2_col0\" class=\"data row2 col0\" >4.490833</td>\n",
       "    </tr>\n",
       "    <tr>\n",
       "      <th id=\"T_76353_level1_row3\" class=\"row_heading level1 row3\" >Urban</th>\n",
       "      <td id=\"T_76353_row3_col0\" class=\"data row3 col0\" >8.088571</td>\n",
       "    </tr>\n",
       "    <tr>\n",
       "      <th id=\"T_76353_level0_row4\" class=\"row_heading level0 row4\" rowspan=\"2\">Bihar</th>\n",
       "      <th id=\"T_76353_level1_row4\" class=\"row_heading level1 row4\" >Rural</th>\n",
       "      <td id=\"T_76353_row4_col0\" class=\"data row4 col0\" >16.770000</td>\n",
       "    </tr>\n",
       "    <tr>\n",
       "      <th id=\"T_76353_level1_row5\" class=\"row_heading level1 row5\" >Urban</th>\n",
       "      <td id=\"T_76353_row5_col0\" class=\"data row5 col0\" >21.066429</td>\n",
       "    </tr>\n",
       "    <tr>\n",
       "      <th id=\"T_76353_level0_row6\" class=\"row_heading level0 row6\" >Chandigarh</th>\n",
       "      <th id=\"T_76353_level1_row6\" class=\"row_heading level1 row6\" >Urban</th>\n",
       "      <td id=\"T_76353_row6_col0\" class=\"data row6 col0\" >15.991667</td>\n",
       "    </tr>\n",
       "    <tr>\n",
       "      <th id=\"T_76353_level0_row7\" class=\"row_heading level0 row7\" rowspan=\"2\">Chhattisgarh</th>\n",
       "      <th id=\"T_76353_level1_row7\" class=\"row_heading level1 row7\" >Rural</th>\n",
       "      <td id=\"T_76353_row7_col0\" class=\"data row7 col0\" >6.628571</td>\n",
       "    </tr>\n",
       "    <tr>\n",
       "      <th id=\"T_76353_level1_row8\" class=\"row_heading level1 row8\" >Urban</th>\n",
       "      <td id=\"T_76353_row8_col0\" class=\"data row8 col0\" >11.852143</td>\n",
       "    </tr>\n",
       "    <tr>\n",
       "      <th id=\"T_76353_level0_row9\" class=\"row_heading level0 row9\" rowspan=\"2\">Delhi</th>\n",
       "      <th id=\"T_76353_level1_row9\" class=\"row_heading level1 row9\" >Rural</th>\n",
       "      <td id=\"T_76353_row9_col0\" class=\"data row9 col0\" >15.258571</td>\n",
       "    </tr>\n",
       "    <tr>\n",
       "      <th id=\"T_76353_level1_row10\" class=\"row_heading level1 row10\" >Urban</th>\n",
       "      <td id=\"T_76353_row10_col0\" class=\"data row10 col0\" >17.732143</td>\n",
       "    </tr>\n",
       "    <tr>\n",
       "      <th id=\"T_76353_level0_row11\" class=\"row_heading level0 row11\" rowspan=\"2\">Goa</th>\n",
       "      <th id=\"T_76353_level1_row11\" class=\"row_heading level1 row11\" >Rural</th>\n",
       "      <td id=\"T_76353_row11_col0\" class=\"data row11 col0\" >8.390000</td>\n",
       "    </tr>\n",
       "    <tr>\n",
       "      <th id=\"T_76353_level1_row12\" class=\"row_heading level1 row12\" >Urban</th>\n",
       "      <td id=\"T_76353_row12_col0\" class=\"data row12 col0\" >10.158333</td>\n",
       "    </tr>\n",
       "    <tr>\n",
       "      <th id=\"T_76353_level0_row13\" class=\"row_heading level0 row13\" rowspan=\"2\">Gujarat</th>\n",
       "      <th id=\"T_76353_level1_row13\" class=\"row_heading level1 row13\" >Rural</th>\n",
       "      <td id=\"T_76353_row13_col0\" class=\"data row13 col0\" >5.917143</td>\n",
       "    </tr>\n",
       "    <tr>\n",
       "      <th id=\"T_76353_level1_row14\" class=\"row_heading level1 row14\" >Urban</th>\n",
       "      <td id=\"T_76353_row14_col0\" class=\"data row14 col0\" >7.410714</td>\n",
       "    </tr>\n",
       "    <tr>\n",
       "      <th id=\"T_76353_level0_row15\" class=\"row_heading level0 row15\" rowspan=\"2\">Haryana</th>\n",
       "      <th id=\"T_76353_level1_row15\" class=\"row_heading level1 row15\" >Rural</th>\n",
       "      <td id=\"T_76353_row15_col0\" class=\"data row15 col0\" >25.012857</td>\n",
       "    </tr>\n",
       "    <tr>\n",
       "      <th id=\"T_76353_level1_row16\" class=\"row_heading level1 row16\" >Urban</th>\n",
       "      <td id=\"T_76353_row16_col0\" class=\"data row16 col0\" >27.553571</td>\n",
       "    </tr>\n",
       "    <tr>\n",
       "      <th id=\"T_76353_level0_row17\" class=\"row_heading level0 row17\" rowspan=\"2\">Himachal Pradesh</th>\n",
       "      <th id=\"T_76353_level1_row17\" class=\"row_heading level1 row17\" >Rural</th>\n",
       "      <td id=\"T_76353_row17_col0\" class=\"data row17 col0\" >15.504286</td>\n",
       "    </tr>\n",
       "    <tr>\n",
       "      <th id=\"T_76353_level1_row18\" class=\"row_heading level1 row18\" >Urban</th>\n",
       "      <td id=\"T_76353_row18_col0\" class=\"data row18 col0\" >21.576429</td>\n",
       "    </tr>\n",
       "    <tr>\n",
       "      <th id=\"T_76353_level0_row19\" class=\"row_heading level0 row19\" rowspan=\"2\">Jammu & Kashmir</th>\n",
       "      <th id=\"T_76353_level1_row19\" class=\"row_heading level1 row19\" >Rural</th>\n",
       "      <td id=\"T_76353_row19_col0\" class=\"data row19 col0\" >14.951818</td>\n",
       "    </tr>\n",
       "    <tr>\n",
       "      <th id=\"T_76353_level1_row20\" class=\"row_heading level1 row20\" >Urban</th>\n",
       "      <td id=\"T_76353_row20_col0\" class=\"data row20 col0\" >17.549000</td>\n",
       "    </tr>\n",
       "    <tr>\n",
       "      <th id=\"T_76353_level0_row21\" class=\"row_heading level0 row21\" rowspan=\"2\">Jharkhand</th>\n",
       "      <th id=\"T_76353_level1_row21\" class=\"row_heading level1 row21\" >Rural</th>\n",
       "      <td id=\"T_76353_row21_col0\" class=\"data row21 col0\" >15.221429</td>\n",
       "    </tr>\n",
       "    <tr>\n",
       "      <th id=\"T_76353_level1_row22\" class=\"row_heading level1 row22\" >Urban</th>\n",
       "      <td id=\"T_76353_row22_col0\" class=\"data row22 col0\" >25.948571</td>\n",
       "    </tr>\n",
       "    <tr>\n",
       "      <th id=\"T_76353_level0_row23\" class=\"row_heading level0 row23\" rowspan=\"2\">Karnataka</th>\n",
       "      <th id=\"T_76353_level1_row23\" class=\"row_heading level1 row23\" >Rural</th>\n",
       "      <td id=\"T_76353_row23_col0\" class=\"data row23 col0\" >7.224286</td>\n",
       "    </tr>\n",
       "    <tr>\n",
       "      <th id=\"T_76353_level1_row24\" class=\"row_heading level1 row24\" >Urban</th>\n",
       "      <td id=\"T_76353_row24_col0\" class=\"data row24 col0\" >6.127857</td>\n",
       "    </tr>\n",
       "    <tr>\n",
       "      <th id=\"T_76353_level0_row25\" class=\"row_heading level0 row25\" rowspan=\"2\">Kerala</th>\n",
       "      <th id=\"T_76353_level1_row25\" class=\"row_heading level1 row25\" >Rural</th>\n",
       "      <td id=\"T_76353_row25_col0\" class=\"data row25 col0\" >10.341429</td>\n",
       "    </tr>\n",
       "    <tr>\n",
       "      <th id=\"T_76353_level1_row26\" class=\"row_heading level1 row26\" >Urban</th>\n",
       "      <td id=\"T_76353_row26_col0\" class=\"data row26 col0\" >9.906429</td>\n",
       "    </tr>\n",
       "    <tr>\n",
       "      <th id=\"T_76353_level0_row27\" class=\"row_heading level0 row27\" rowspan=\"2\">Madhya Pradesh</th>\n",
       "      <th id=\"T_76353_level1_row27\" class=\"row_heading level1 row27\" >Rural</th>\n",
       "      <td id=\"T_76353_row27_col0\" class=\"data row27 col0\" >5.653571</td>\n",
       "    </tr>\n",
       "    <tr>\n",
       "      <th id=\"T_76353_level1_row28\" class=\"row_heading level1 row28\" >Urban</th>\n",
       "      <td id=\"T_76353_row28_col0\" class=\"data row28 col0\" >9.159286</td>\n",
       "    </tr>\n",
       "    <tr>\n",
       "      <th id=\"T_76353_level0_row29\" class=\"row_heading level0 row29\" rowspan=\"2\">Maharashtra</th>\n",
       "      <th id=\"T_76353_level1_row29\" class=\"row_heading level1 row29\" >Rural</th>\n",
       "      <td id=\"T_76353_row29_col0\" class=\"data row29 col0\" >6.810000</td>\n",
       "    </tr>\n",
       "    <tr>\n",
       "      <th id=\"T_76353_level1_row30\" class=\"row_heading level1 row30\" >Urban</th>\n",
       "      <td id=\"T_76353_row30_col0\" class=\"data row30 col0\" >8.305000</td>\n",
       "    </tr>\n",
       "    <tr>\n",
       "      <th id=\"T_76353_level0_row31\" class=\"row_heading level0 row31\" rowspan=\"2\">Meghalaya</th>\n",
       "      <th id=\"T_76353_level1_row31\" class=\"row_heading level1 row31\" >Rural</th>\n",
       "      <td id=\"T_76353_row31_col0\" class=\"data row31 col0\" >2.475000</td>\n",
       "    </tr>\n",
       "    <tr>\n",
       "      <th id=\"T_76353_level1_row32\" class=\"row_heading level1 row32\" >Urban</th>\n",
       "      <td id=\"T_76353_row32_col0\" class=\"data row32 col0\" >7.301538</td>\n",
       "    </tr>\n",
       "    <tr>\n",
       "      <th id=\"T_76353_level0_row33\" class=\"row_heading level0 row33\" rowspan=\"2\">Odisha</th>\n",
       "      <th id=\"T_76353_level1_row33\" class=\"row_heading level1 row33\" >Rural</th>\n",
       "      <td id=\"T_76353_row33_col0\" class=\"data row33 col0\" >6.612857</td>\n",
       "    </tr>\n",
       "    <tr>\n",
       "      <th id=\"T_76353_level1_row34\" class=\"row_heading level1 row34\" >Urban</th>\n",
       "      <td id=\"T_76353_row34_col0\" class=\"data row34 col0\" >4.702857</td>\n",
       "    </tr>\n",
       "    <tr>\n",
       "      <th id=\"T_76353_level0_row35\" class=\"row_heading level0 row35\" rowspan=\"2\">Puducherry</th>\n",
       "      <th id=\"T_76353_level1_row35\" class=\"row_heading level1 row35\" >Rural</th>\n",
       "      <td id=\"T_76353_row35_col0\" class=\"data row35 col0\" >7.263333</td>\n",
       "    </tr>\n",
       "    <tr>\n",
       "      <th id=\"T_76353_level1_row36\" class=\"row_heading level1 row36\" >Urban</th>\n",
       "      <td id=\"T_76353_row36_col0\" class=\"data row36 col0\" >12.745000</td>\n",
       "    </tr>\n",
       "    <tr>\n",
       "      <th id=\"T_76353_level0_row37\" class=\"row_heading level0 row37\" rowspan=\"2\">Punjab</th>\n",
       "      <th id=\"T_76353_level1_row37\" class=\"row_heading level1 row37\" >Rural</th>\n",
       "      <td id=\"T_76353_row37_col0\" class=\"data row37 col0\" >11.925000</td>\n",
       "    </tr>\n",
       "    <tr>\n",
       "      <th id=\"T_76353_level1_row38\" class=\"row_heading level1 row38\" >Urban</th>\n",
       "      <td id=\"T_76353_row38_col0\" class=\"data row38 col0\" >12.137143</td>\n",
       "    </tr>\n",
       "    <tr>\n",
       "      <th id=\"T_76353_level0_row39\" class=\"row_heading level0 row39\" rowspan=\"2\">Rajasthan</th>\n",
       "      <th id=\"T_76353_level1_row39\" class=\"row_heading level1 row39\" >Rural</th>\n",
       "      <td id=\"T_76353_row39_col0\" class=\"data row39 col0\" >10.927143</td>\n",
       "    </tr>\n",
       "    <tr>\n",
       "      <th id=\"T_76353_level1_row40\" class=\"row_heading level1 row40\" >Urban</th>\n",
       "      <td id=\"T_76353_row40_col0\" class=\"data row40 col0\" >17.189286</td>\n",
       "    </tr>\n",
       "    <tr>\n",
       "      <th id=\"T_76353_level0_row41\" class=\"row_heading level0 row41\" rowspan=\"2\">Sikkim</th>\n",
       "      <th id=\"T_76353_level1_row41\" class=\"row_heading level1 row41\" >Rural</th>\n",
       "      <td id=\"T_76353_row41_col0\" class=\"data row41 col0\" >5.080000</td>\n",
       "    </tr>\n",
       "    <tr>\n",
       "      <th id=\"T_76353_level1_row42\" class=\"row_heading level1 row42\" >Urban</th>\n",
       "      <td id=\"T_76353_row42_col0\" class=\"data row42 col0\" >8.153333</td>\n",
       "    </tr>\n",
       "    <tr>\n",
       "      <th id=\"T_76353_level0_row43\" class=\"row_heading level0 row43\" rowspan=\"2\">Tamil Nadu</th>\n",
       "      <th id=\"T_76353_level1_row43\" class=\"row_heading level1 row43\" >Rural</th>\n",
       "      <td id=\"T_76353_row43_col0\" class=\"data row43 col0\" >8.775714</td>\n",
       "    </tr>\n",
       "    <tr>\n",
       "      <th id=\"T_76353_level1_row44\" class=\"row_heading level1 row44\" >Urban</th>\n",
       "      <td id=\"T_76353_row44_col0\" class=\"data row44 col0\" >9.792857</td>\n",
       "    </tr>\n",
       "    <tr>\n",
       "      <th id=\"T_76353_level0_row45\" class=\"row_heading level0 row45\" rowspan=\"2\">Telangana</th>\n",
       "      <th id=\"T_76353_level1_row45\" class=\"row_heading level1 row45\" >Rural</th>\n",
       "      <td id=\"T_76353_row45_col0\" class=\"data row45 col0\" >7.863571</td>\n",
       "    </tr>\n",
       "    <tr>\n",
       "      <th id=\"T_76353_level1_row46\" class=\"row_heading level1 row46\" >Urban</th>\n",
       "      <td id=\"T_76353_row46_col0\" class=\"data row46 col0\" >7.612143</td>\n",
       "    </tr>\n",
       "    <tr>\n",
       "      <th id=\"T_76353_level0_row47\" class=\"row_heading level0 row47\" rowspan=\"2\">Tripura</th>\n",
       "      <th id=\"T_76353_level1_row47\" class=\"row_heading level1 row47\" >Rural</th>\n",
       "      <td id=\"T_76353_row47_col0\" class=\"data row47 col0\" >27.166429</td>\n",
       "    </tr>\n",
       "    <tr>\n",
       "      <th id=\"T_76353_level1_row48\" class=\"row_heading level1 row48\" >Urban</th>\n",
       "      <td id=\"T_76353_row48_col0\" class=\"data row48 col0\" >29.534286</td>\n",
       "    </tr>\n",
       "    <tr>\n",
       "      <th id=\"T_76353_level0_row49\" class=\"row_heading level0 row49\" rowspan=\"2\">Uttar Pradesh</th>\n",
       "      <th id=\"T_76353_level1_row49\" class=\"row_heading level1 row49\" >Rural</th>\n",
       "      <td id=\"T_76353_row49_col0\" class=\"data row49 col0\" >10.208571</td>\n",
       "    </tr>\n",
       "    <tr>\n",
       "      <th id=\"T_76353_level1_row50\" class=\"row_heading level1 row50\" >Urban</th>\n",
       "      <td id=\"T_76353_row50_col0\" class=\"data row50 col0\" >14.894286</td>\n",
       "    </tr>\n",
       "    <tr>\n",
       "      <th id=\"T_76353_level0_row51\" class=\"row_heading level0 row51\" rowspan=\"2\">Uttarakhand</th>\n",
       "      <th id=\"T_76353_level1_row51\" class=\"row_heading level1 row51\" >Rural</th>\n",
       "      <td id=\"T_76353_row51_col0\" class=\"data row51 col0\" >4.882308</td>\n",
       "    </tr>\n",
       "    <tr>\n",
       "      <th id=\"T_76353_level1_row52\" class=\"row_heading level1 row52\" >Urban</th>\n",
       "      <td id=\"T_76353_row52_col0\" class=\"data row52 col0\" >8.162143</td>\n",
       "    </tr>\n",
       "    <tr>\n",
       "      <th id=\"T_76353_level0_row53\" class=\"row_heading level0 row53\" rowspan=\"2\">West Bengal</th>\n",
       "      <th id=\"T_76353_level1_row53\" class=\"row_heading level1 row53\" >Rural</th>\n",
       "      <td id=\"T_76353_row53_col0\" class=\"data row53 col0\" >7.572143</td>\n",
       "    </tr>\n",
       "    <tr>\n",
       "      <th id=\"T_76353_level1_row54\" class=\"row_heading level1 row54\" >Urban</th>\n",
       "      <td id=\"T_76353_row54_col0\" class=\"data row54 col0\" >8.677143</td>\n",
       "    </tr>\n",
       "  </tbody>\n",
       "</table>\n"
      ],
      "text/plain": [
       "<pandas.io.formats.style.Styler at 0x13815c340>"
      ]
     },
     "execution_count": 69,
     "metadata": {},
     "output_type": "execute_result"
    }
   ],
   "source": [
    "group.style.bar(color=\"lightgreen\")"
   ]
  },
  {
   "cell_type": "code",
   "execution_count": 76,
   "metadata": {},
   "outputs": [
    {
     "data": {
      "text/html": [
       "<div>\n",
       "<style scoped>\n",
       "    .dataframe tbody tr th:only-of-type {\n",
       "        vertical-align: middle;\n",
       "    }\n",
       "\n",
       "    .dataframe tbody tr th {\n",
       "        vertical-align: top;\n",
       "    }\n",
       "\n",
       "    .dataframe thead th {\n",
       "        text-align: right;\n",
       "    }\n",
       "</style>\n",
       "<table border=\"1\" class=\"dataframe\">\n",
       "  <thead>\n",
       "    <tr style=\"text-align: right;\">\n",
       "      <th></th>\n",
       "      <th>Region</th>\n",
       "      <th>Frequency</th>\n",
       "      <th>Estimated Unemployment Rate (%)</th>\n",
       "      <th>Estimated Employed</th>\n",
       "      <th>Estimated Labour Participation Rate (%)</th>\n",
       "      <th>Area</th>\n",
       "      <th>Day</th>\n",
       "      <th>Month</th>\n",
       "      <th>Year</th>\n",
       "    </tr>\n",
       "  </thead>\n",
       "  <tbody>\n",
       "    <tr>\n",
       "      <th>0</th>\n",
       "      <td>Andhra Pradesh</td>\n",
       "      <td>Monthly</td>\n",
       "      <td>3.65</td>\n",
       "      <td>11999139.0</td>\n",
       "      <td>43.24</td>\n",
       "      <td>Rural</td>\n",
       "      <td>31</td>\n",
       "      <td>05</td>\n",
       "      <td>2019</td>\n",
       "    </tr>\n",
       "    <tr>\n",
       "      <th>1</th>\n",
       "      <td>Andhra Pradesh</td>\n",
       "      <td>Monthly</td>\n",
       "      <td>3.05</td>\n",
       "      <td>11755881.0</td>\n",
       "      <td>42.05</td>\n",
       "      <td>Rural</td>\n",
       "      <td>30</td>\n",
       "      <td>06</td>\n",
       "      <td>2019</td>\n",
       "    </tr>\n",
       "    <tr>\n",
       "      <th>2</th>\n",
       "      <td>Andhra Pradesh</td>\n",
       "      <td>Monthly</td>\n",
       "      <td>3.75</td>\n",
       "      <td>12086707.0</td>\n",
       "      <td>43.50</td>\n",
       "      <td>Rural</td>\n",
       "      <td>31</td>\n",
       "      <td>07</td>\n",
       "      <td>2019</td>\n",
       "    </tr>\n",
       "    <tr>\n",
       "      <th>3</th>\n",
       "      <td>Andhra Pradesh</td>\n",
       "      <td>Monthly</td>\n",
       "      <td>3.32</td>\n",
       "      <td>12285693.0</td>\n",
       "      <td>43.97</td>\n",
       "      <td>Rural</td>\n",
       "      <td>31</td>\n",
       "      <td>08</td>\n",
       "      <td>2019</td>\n",
       "    </tr>\n",
       "    <tr>\n",
       "      <th>4</th>\n",
       "      <td>Andhra Pradesh</td>\n",
       "      <td>Monthly</td>\n",
       "      <td>5.17</td>\n",
       "      <td>12256762.0</td>\n",
       "      <td>44.68</td>\n",
       "      <td>Rural</td>\n",
       "      <td>30</td>\n",
       "      <td>09</td>\n",
       "      <td>2019</td>\n",
       "    </tr>\n",
       "    <tr>\n",
       "      <th>...</th>\n",
       "      <td>...</td>\n",
       "      <td>...</td>\n",
       "      <td>...</td>\n",
       "      <td>...</td>\n",
       "      <td>...</td>\n",
       "      <td>...</td>\n",
       "      <td>...</td>\n",
       "      <td>...</td>\n",
       "      <td>...</td>\n",
       "    </tr>\n",
       "    <tr>\n",
       "      <th>749</th>\n",
       "      <td>West Bengal</td>\n",
       "      <td>Monthly</td>\n",
       "      <td>7.55</td>\n",
       "      <td>10871168.0</td>\n",
       "      <td>44.09</td>\n",
       "      <td>Urban</td>\n",
       "      <td>29</td>\n",
       "      <td>02</td>\n",
       "      <td>2020</td>\n",
       "    </tr>\n",
       "    <tr>\n",
       "      <th>750</th>\n",
       "      <td>West Bengal</td>\n",
       "      <td>Monthly</td>\n",
       "      <td>6.67</td>\n",
       "      <td>10806105.0</td>\n",
       "      <td>43.34</td>\n",
       "      <td>Urban</td>\n",
       "      <td>31</td>\n",
       "      <td>03</td>\n",
       "      <td>2020</td>\n",
       "    </tr>\n",
       "    <tr>\n",
       "      <th>751</th>\n",
       "      <td>West Bengal</td>\n",
       "      <td>Monthly</td>\n",
       "      <td>15.63</td>\n",
       "      <td>9299466.0</td>\n",
       "      <td>41.20</td>\n",
       "      <td>Urban</td>\n",
       "      <td>30</td>\n",
       "      <td>04</td>\n",
       "      <td>2020</td>\n",
       "    </tr>\n",
       "    <tr>\n",
       "      <th>752</th>\n",
       "      <td>West Bengal</td>\n",
       "      <td>Monthly</td>\n",
       "      <td>15.22</td>\n",
       "      <td>9240903.0</td>\n",
       "      <td>40.67</td>\n",
       "      <td>Urban</td>\n",
       "      <td>31</td>\n",
       "      <td>05</td>\n",
       "      <td>2020</td>\n",
       "    </tr>\n",
       "    <tr>\n",
       "      <th>753</th>\n",
       "      <td>West Bengal</td>\n",
       "      <td>Monthly</td>\n",
       "      <td>9.86</td>\n",
       "      <td>9088931.0</td>\n",
       "      <td>37.57</td>\n",
       "      <td>Urban</td>\n",
       "      <td>30</td>\n",
       "      <td>06</td>\n",
       "      <td>2020</td>\n",
       "    </tr>\n",
       "  </tbody>\n",
       "</table>\n",
       "<p>740 rows × 9 columns</p>\n",
       "</div>"
      ],
      "text/plain": [
       "             Region  Frequency   Estimated Unemployment Rate (%)   \n",
       "0    Andhra Pradesh    Monthly                              3.65  \\\n",
       "1    Andhra Pradesh    Monthly                              3.05   \n",
       "2    Andhra Pradesh    Monthly                              3.75   \n",
       "3    Andhra Pradesh    Monthly                              3.32   \n",
       "4    Andhra Pradesh    Monthly                              5.17   \n",
       "..              ...        ...                               ...   \n",
       "749     West Bengal    Monthly                              7.55   \n",
       "750     West Bengal    Monthly                              6.67   \n",
       "751     West Bengal    Monthly                             15.63   \n",
       "752     West Bengal    Monthly                             15.22   \n",
       "753     West Bengal    Monthly                              9.86   \n",
       "\n",
       "      Estimated Employed   Estimated Labour Participation Rate (%)   Area   \n",
       "0             11999139.0                                     43.24  Rural  \\\n",
       "1             11755881.0                                     42.05  Rural   \n",
       "2             12086707.0                                     43.50  Rural   \n",
       "3             12285693.0                                     43.97  Rural   \n",
       "4             12256762.0                                     44.68  Rural   \n",
       "..                   ...                                       ...    ...   \n",
       "749           10871168.0                                     44.09  Urban   \n",
       "750           10806105.0                                     43.34  Urban   \n",
       "751            9299466.0                                     41.20  Urban   \n",
       "752            9240903.0                                     40.67  Urban   \n",
       "753            9088931.0                                     37.57  Urban   \n",
       "\n",
       "     Day Month  Year  \n",
       "0     31    05  2019  \n",
       "1     30    06  2019  \n",
       "2     31    07  2019  \n",
       "3     31    08  2019  \n",
       "4     30    09  2019  \n",
       "..   ...   ...   ...  \n",
       "749   29    02  2020  \n",
       "750   31    03  2020  \n",
       "751   30    04  2020  \n",
       "752   31    05  2020  \n",
       "753   30    06  2020  \n",
       "\n",
       "[740 rows x 9 columns]"
      ]
     },
     "execution_count": 76,
     "metadata": {},
     "output_type": "execute_result"
    }
   ],
   "source": [
    "india[['Day','Month','Year']] = india[' Date'].str.split('-', expand=True)     \n",
    "#.str.split(\"-\",expand=True,)\n",
    "new_data = india.drop([' Date'],axis=1)\n",
    "new_data"
   ]
  },
  {
   "cell_type": "code",
   "execution_count": 89,
   "metadata": {},
   "outputs": [
    {
     "data": {
      "image/png": "[encoded data removed]",
      "text/plain": [
       "<Figure size 1500x1000 with 1 Axes>"
      ]
     },
     "metadata": {},
     "output_type": "display_data"
    }
   ],
   "source": [
    "plt.figure(figsize=(15, 10))\n",
    "plt.title(\" Unemployment_rate\")\n",
    "sns.histplot(x=\" Estimated Unemployment Rate (%)\", hue=\"Region\", data=india)\n",
    "plt.show()"
   ]
  },
  {
   "cell_type": "code",
   "execution_count": 98,
   "metadata": {},
   "outputs": [
    {
     "data": {
      "application/vnd.plotly.v1+json": {
       "config": {
        "plotlyServerURL": "https://plot.ly"
       },
       "data": [
        {
         "alignmentgroup": "True",
         "hovertemplate": "Region=%{x}<br> Estimated Employed=%{y}<extra></extra>",
         "legendgroup": "Andhra Pradesh",
         "marker": {
          "color": "#636efa",
          "pattern": {
           "shape": ""
          }
         },
         "name": "Andhra Pradesh",
         "offsetgroup": "Andhra Pradesh",
         "orientation": "v",
         "showlegend": true,
         "textposition": "auto",
         "type": "bar",
         "x": [
          "Andhra Pradesh"
         ],
         "xaxis": "x",
         "y": [
          8154093.178571428
         ],
         "yaxis": "y"
        },
        {
         "alignmentgroup": "True",
         "hovertemplate": "Region=%{x}<br> Estimated Employed=%{y}<extra></extra>",
         "legendgroup": "Assam",
         "marker": {
          "color": "#EF553B",
          "pattern": {
           "shape": ""
          }
         },
         "name": "Assam",
         "offsetgroup": "Assam",
         "orientation": "v",
         "showlegend": true,
         "textposition": "auto",
         "type": "bar",
         "x": [
          "Assam"
         ],
         "xaxis": "x",
         "y": [
          5354772.153846154
         ],
         "yaxis": "y"
        },
        {
         "alignmentgroup": "True",
         "hovertemplate": "Region=%{x}<br> Estimated Employed=%{y}<extra></extra>",
         "legendgroup": "Bihar",
         "marker": {
          "color": "#00cc96",
          "pattern": {
           "shape": ""
          }
         },
         "name": "Bihar",
         "offsetgroup": "Bihar",
         "orientation": "v",
         "showlegend": true,
         "textposition": "auto",
         "type": "bar",
         "x": [
          "Bihar"
         ],
         "xaxis": "x",
         "y": [
          12366189.142857144
         ],
         "yaxis": "y"
        },
        {
         "alignmentgroup": "True",
         "hovertemplate": "Region=%{x}<br> Estimated Employed=%{y}<extra></extra>",
         "legendgroup": "Chandigarh",
         "marker": {
          "color": "#ab63fa",
          "pattern": {
           "shape": ""
          }
         },
         "name": "Chandigarh",
         "offsetgroup": "Chandigarh",
         "orientation": "v",
         "showlegend": true,
         "textposition": "auto",
         "type": "bar",
         "x": [
          "Chandigarh"
         ],
         "xaxis": "x",
         "y": [
          316831.25
         ],
         "yaxis": "y"
        },
        {
         "alignmentgroup": "True",
         "hovertemplate": "Region=%{x}<br> Estimated Employed=%{y}<extra></extra>",
         "legendgroup": "Chhattisgarh",
         "marker": {
          "color": "#FFA15A",
          "pattern": {
           "shape": ""
          }
         },
         "name": "Chhattisgarh",
         "offsetgroup": "Chhattisgarh",
         "orientation": "v",
         "showlegend": true,
         "textposition": "auto",
         "type": "bar",
         "x": [
          "Chhattisgarh"
         ],
         "xaxis": "x",
         "y": [
          4303498.571428572
         ],
         "yaxis": "y"
        },
        {
         "alignmentgroup": "True",
         "hovertemplate": "Region=%{x}<br> Estimated Employed=%{y}<extra></extra>",
         "legendgroup": "Delhi",
         "marker": {
          "color": "#19d3f3",
          "pattern": {
           "shape": ""
          }
         },
         "name": "Delhi",
         "offsetgroup": "Delhi",
         "orientation": "v",
         "showlegend": true,
         "textposition": "auto",
         "type": "bar",
         "x": [
          "Delhi"
         ],
         "xaxis": "x",
         "y": [
          2627512.8571428573
         ],
         "yaxis": "y"
        },
        {
         "alignmentgroup": "True",
         "hovertemplate": "Region=%{x}<br> Estimated Employed=%{y}<extra></extra>",
         "legendgroup": "Goa",
         "marker": {
          "color": "#FF6692",
          "pattern": {
           "shape": ""
          }
         },
         "name": "Goa",
         "offsetgroup": "Goa",
         "orientation": "v",
         "showlegend": true,
         "textposition": "auto",
         "type": "bar",
         "x": [
          "Goa"
         ],
         "xaxis": "x",
         "y": [
          226308.33333333334
         ],
         "yaxis": "y"
        },
        {
         "alignmentgroup": "True",
         "hovertemplate": "Region=%{x}<br> Estimated Employed=%{y}<extra></extra>",
         "legendgroup": "Gujarat",
         "marker": {
          "color": "#B6E880",
          "pattern": {
           "shape": ""
          }
         },
         "name": "Gujarat",
         "offsetgroup": "Gujarat",
         "orientation": "v",
         "showlegend": true,
         "textposition": "auto",
         "type": "bar",
         "x": [
          "Gujarat"
         ],
         "xaxis": "x",
         "y": [
          11402012.785714285
         ],
         "yaxis": "y"
        },
        {
         "alignmentgroup": "True",
         "hovertemplate": "Region=%{x}<br> Estimated Employed=%{y}<extra></extra>",
         "legendgroup": "Haryana",
         "marker": {
          "color": "#FF97FF",
          "pattern": {
           "shape": ""
          }
         },
         "name": "Haryana",
         "offsetgroup": "Haryana",
         "orientation": "v",
         "showlegend": true,
         "textposition": "auto",
         "type": "bar",
         "x": [
          "Haryana"
         ],
         "xaxis": "x",
         "y": [
          3557072.464285714
         ],
         "yaxis": "y"
        },
        {
         "alignmentgroup": "True",
         "hovertemplate": "Region=%{x}<br> Estimated Employed=%{y}<extra></extra>",
         "legendgroup": "Himachal Pradesh",
         "marker": {
          "color": "#FECB52",
          "pattern": {
           "shape": ""
          }
         },
         "name": "Himachal Pradesh",
         "offsetgroup": "Himachal Pradesh",
         "orientation": "v",
         "showlegend": true,
         "textposition": "auto",
         "type": "bar",
         "x": [
          "Himachal Pradesh"
         ],
         "xaxis": "x",
         "y": [
          1059823.7142857143
         ],
         "yaxis": "y"
        },
        {
         "alignmentgroup": "True",
         "hovertemplate": "Region=%{x}<br> Estimated Employed=%{y}<extra></extra>",
         "legendgroup": "Jammu & Kashmir",
         "marker": {
          "color": "#636efa",
          "pattern": {
           "shape": ""
          }
         },
         "name": "Jammu & Kashmir",
         "offsetgroup": "Jammu & Kashmir",
         "orientation": "v",
         "showlegend": true,
         "textposition": "auto",
         "type": "bar",
         "x": [
          "Jammu & Kashmir"
         ],
         "xaxis": "x",
         "y": [
          1799931.6666666667
         ],
         "yaxis": "y"
        },
        {
         "alignmentgroup": "True",
         "hovertemplate": "Region=%{x}<br> Estimated Employed=%{y}<extra></extra>",
         "legendgroup": "Jharkhand",
         "marker": {
          "color": "#EF553B",
          "pattern": {
           "shape": ""
          }
         },
         "name": "Jharkhand",
         "offsetgroup": "Jharkhand",
         "orientation": "v",
         "showlegend": true,
         "textposition": "auto",
         "type": "bar",
         "x": [
          "Jharkhand"
         ],
         "xaxis": "x",
         "y": [
          4469240.428571428
         ],
         "yaxis": "y"
        },
        {
         "alignmentgroup": "True",
         "hovertemplate": "Region=%{x}<br> Estimated Employed=%{y}<extra></extra>",
         "legendgroup": "Karnataka",
         "marker": {
          "color": "#00cc96",
          "pattern": {
           "shape": ""
          }
         },
         "name": "Karnataka",
         "offsetgroup": "Karnataka",
         "orientation": "v",
         "showlegend": true,
         "textposition": "auto",
         "type": "bar",
         "x": [
          "Karnataka"
         ],
         "xaxis": "x",
         "y": [
          10667119.285714285
         ],
         "yaxis": "y"
        },
        {
         "alignmentgroup": "True",
         "hovertemplate": "Region=%{x}<br> Estimated Employed=%{y}<extra></extra>",
         "legendgroup": "Kerala",
         "marker": {
          "color": "#ab63fa",
          "pattern": {
           "shape": ""
          }
         },
         "name": "Kerala",
         "offsetgroup": "Kerala",
         "orientation": "v",
         "showlegend": true,
         "textposition": "auto",
         "type": "bar",
         "x": [
          "Kerala"
         ],
         "xaxis": "x",
         "y": [
          4425899.5
         ],
         "yaxis": "y"
        },
        {
         "alignmentgroup": "True",
         "hovertemplate": "Region=%{x}<br> Estimated Employed=%{y}<extra></extra>",
         "legendgroup": "Madhya Pradesh",
         "marker": {
          "color": "#FFA15A",
          "pattern": {
           "shape": ""
          }
         },
         "name": "Madhya Pradesh",
         "offsetgroup": "Madhya Pradesh",
         "orientation": "v",
         "showlegend": true,
         "textposition": "auto",
         "type": "bar",
         "x": [
          "Madhya Pradesh"
         ],
         "xaxis": "x",
         "y": [
          11115484.32142857
         ],
         "yaxis": "y"
        },
        {
         "alignmentgroup": "True",
         "hovertemplate": "Region=%{x}<br> Estimated Employed=%{y}<extra></extra>",
         "legendgroup": "Maharashtra",
         "marker": {
          "color": "#19d3f3",
          "pattern": {
           "shape": ""
          }
         },
         "name": "Maharashtra",
         "offsetgroup": "Maharashtra",
         "orientation": "v",
         "showlegend": true,
         "textposition": "auto",
         "type": "bar",
         "x": [
          "Maharashtra"
         ],
         "xaxis": "x",
         "y": [
          19990195.85714286
         ],
         "yaxis": "y"
        },
        {
         "alignmentgroup": "True",
         "hovertemplate": "Region=%{x}<br> Estimated Employed=%{y}<extra></extra>",
         "legendgroup": "Meghalaya",
         "marker": {
          "color": "#FF6692",
          "pattern": {
           "shape": ""
          }
         },
         "name": "Meghalaya",
         "offsetgroup": "Meghalaya",
         "orientation": "v",
         "showlegend": true,
         "textposition": "auto",
         "type": "bar",
         "x": [
          "Meghalaya"
         ],
         "xaxis": "x",
         "y": [
          689736.8148148148
         ],
         "yaxis": "y"
        },
        {
         "alignmentgroup": "True",
         "hovertemplate": "Region=%{x}<br> Estimated Employed=%{y}<extra></extra>",
         "legendgroup": "Odisha",
         "marker": {
          "color": "#B6E880",
          "pattern": {
           "shape": ""
          }
         },
         "name": "Odisha",
         "offsetgroup": "Odisha",
         "orientation": "v",
         "showlegend": true,
         "textposition": "auto",
         "type": "bar",
         "x": [
          "Odisha"
         ],
         "xaxis": "x",
         "y": [
          6545746.964285715
         ],
         "yaxis": "y"
        },
        {
         "alignmentgroup": "True",
         "hovertemplate": "Region=%{x}<br> Estimated Employed=%{y}<extra></extra>",
         "legendgroup": "Puducherry",
         "marker": {
          "color": "#FF97FF",
          "pattern": {
           "shape": ""
          }
         },
         "name": "Puducherry",
         "offsetgroup": "Puducherry",
         "orientation": "v",
         "showlegend": true,
         "textposition": "auto",
         "type": "bar",
         "x": [
          "Puducherry"
         ],
         "xaxis": "x",
         "y": [
          212278.07692307694
         ],
         "yaxis": "y"
        },
        {
         "alignmentgroup": "True",
         "hovertemplate": "Region=%{x}<br> Estimated Employed=%{y}<extra></extra>",
         "legendgroup": "Punjab",
         "marker": {
          "color": "#FECB52",
          "pattern": {
           "shape": ""
          }
         },
         "name": "Punjab",
         "offsetgroup": "Punjab",
         "orientation": "v",
         "showlegend": true,
         "textposition": "auto",
         "type": "bar",
         "x": [
          "Punjab"
         ],
         "xaxis": "x",
         "y": [
          4539362
         ],
         "yaxis": "y"
        },
        {
         "alignmentgroup": "True",
         "hovertemplate": "Region=%{x}<br> Estimated Employed=%{y}<extra></extra>",
         "legendgroup": "Rajasthan",
         "marker": {
          "color": "#636efa",
          "pattern": {
           "shape": ""
          }
         },
         "name": "Rajasthan",
         "offsetgroup": "Rajasthan",
         "orientation": "v",
         "showlegend": true,
         "textposition": "auto",
         "type": "bar",
         "x": [
          "Rajasthan"
         ],
         "xaxis": "x",
         "y": [
          10041064.75
         ],
         "yaxis": "y"
        },
        {
         "alignmentgroup": "True",
         "hovertemplate": "Region=%{x}<br> Estimated Employed=%{y}<extra></extra>",
         "legendgroup": "Sikkim",
         "marker": {
          "color": "#EF553B",
          "pattern": {
           "shape": ""
          }
         },
         "name": "Sikkim",
         "offsetgroup": "Sikkim",
         "orientation": "v",
         "showlegend": true,
         "textposition": "auto",
         "type": "bar",
         "x": [
          "Sikkim"
         ],
         "xaxis": "x",
         "y": [
          106880.70588235294
         ],
         "yaxis": "y"
        },
        {
         "alignmentgroup": "True",
         "hovertemplate": "Region=%{x}<br> Estimated Employed=%{y}<extra></extra>",
         "legendgroup": "Tamil Nadu",
         "marker": {
          "color": "#00cc96",
          "pattern": {
           "shape": ""
          }
         },
         "name": "Tamil Nadu",
         "offsetgroup": "Tamil Nadu",
         "orientation": "v",
         "showlegend": true,
         "textposition": "auto",
         "type": "bar",
         "x": [
          "Tamil Nadu"
         ],
         "xaxis": "x",
         "y": [
          12269546.75
         ],
         "yaxis": "y"
        },
        {
         "alignmentgroup": "True",
         "hovertemplate": "Region=%{x}<br> Estimated Employed=%{y}<extra></extra>",
         "legendgroup": "Telangana",
         "marker": {
          "color": "#ab63fa",
          "pattern": {
           "shape": ""
          }
         },
         "name": "Telangana",
         "offsetgroup": "Telangana",
         "orientation": "v",
         "showlegend": true,
         "textposition": "auto",
         "type": "bar",
         "x": [
          "Telangana"
         ],
         "xaxis": "x",
         "y": [
          7939662.75
         ],
         "yaxis": "y"
        },
        {
         "alignmentgroup": "True",
         "hovertemplate": "Region=%{x}<br> Estimated Employed=%{y}<extra></extra>",
         "legendgroup": "Tripura",
         "marker": {
          "color": "#FFA15A",
          "pattern": {
           "shape": ""
          }
         },
         "name": "Tripura",
         "offsetgroup": "Tripura",
         "orientation": "v",
         "showlegend": true,
         "textposition": "auto",
         "type": "bar",
         "x": [
          "Tripura"
         ],
         "xaxis": "x",
         "y": [
          717002.6428571428
         ],
         "yaxis": "y"
        },
        {
         "alignmentgroup": "True",
         "hovertemplate": "Region=%{x}<br> Estimated Employed=%{y}<extra></extra>",
         "legendgroup": "Uttar Pradesh",
         "marker": {
          "color": "#19d3f3",
          "pattern": {
           "shape": ""
          }
         },
         "name": "Uttar Pradesh",
         "offsetgroup": "Uttar Pradesh",
         "orientation": "v",
         "showlegend": true,
         "textposition": "auto",
         "type": "bar",
         "x": [
          "Uttar Pradesh"
         ],
         "xaxis": "x",
         "y": [
          28094832.17857143
         ],
         "yaxis": "y"
        },
        {
         "alignmentgroup": "True",
         "hovertemplate": "Region=%{x}<br> Estimated Employed=%{y}<extra></extra>",
         "legendgroup": "Uttarakhand",
         "marker": {
          "color": "#FF6692",
          "pattern": {
           "shape": ""
          }
         },
         "name": "Uttarakhand",
         "offsetgroup": "Uttarakhand",
         "orientation": "v",
         "showlegend": true,
         "textposition": "auto",
         "type": "bar",
         "x": [
          "Uttarakhand"
         ],
         "xaxis": "x",
         "y": [
          1390228.111111111
         ],
         "yaxis": "y"
        },
        {
         "alignmentgroup": "True",
         "hovertemplate": "Region=%{x}<br> Estimated Employed=%{y}<extra></extra>",
         "legendgroup": "West Bengal",
         "marker": {
          "color": "#B6E880",
          "pattern": {
           "shape": ""
          }
         },
         "name": "West Bengal",
         "offsetgroup": "West Bengal",
         "orientation": "v",
         "showlegend": true,
         "textposition": "auto",
         "type": "bar",
         "x": [
          "West Bengal"
         ],
         "xaxis": "x",
         "y": [
          17198538
         ],
         "yaxis": "y"
        }
       ],
       "layout": {
        "barmode": "relative",
        "legend": {
         "title": {
          "text": "Region"
         },
         "tracegroupgap": 0
        },
        "template": {
         "data": {
          "bar": [
           {
            "error_x": {
             "color": "#2a3f5f"
            },
            "error_y": {
             "color": "#2a3f5f"
            },
            "marker": {
             "line": {
              "color": "#E5ECF6",
              "width": 0.5
             },
             "pattern": {
              "fillmode": "overlay",
              "size": 10,
              "solidity": 0.2
             }
            },
            "type": "bar"
           }
          ],
          "barpolar": [
           {
            "marker": {
             "line": {
              "color": "#E5ECF6",
              "width": 0.5
             },
             "pattern": {
              "fillmode": "overlay",
              "size": 10,
              "solidity": 0.2
             }
            },
            "type": "barpolar"
           }
          ],
          "carpet": [
           {
            "aaxis": {
             "endlinecolor": "#2a3f5f",
             "gridcolor": "white",
             "linecolor": "white",
             "minorgridcolor": "white",
             "startlinecolor": "#2a3f5f"
            },
            "baxis": {
             "endlinecolor": "#2a3f5f",
             "gridcolor": "white",
             "linecolor": "white",
             "minorgridcolor": "white",
             "startlinecolor": "#2a3f5f"
            },
            "type": "carpet"
           }
          ],
          "choropleth": [
           {
            "colorbar": {
             "outlinewidth": 0,
             "ticks": ""
            },
            "type": "choropleth"
           }
          ],
          "contour": [
           {
            "colorbar": {
             "outlinewidth": 0,
             "ticks": ""
            },
            "colorscale": [
             [
              0,
              "#0d0887"
             ],
             [
              0.1111111111111111,
              "#46039f"
             ],
             [
              0.2222222222222222,
              "#7201a8"
             ],
             [
              0.3333333333333333,
              "#9c179e"
             ],
             [
              0.4444444444444444,
              "#bd3786"
             ],
             [
              0.5555555555555556,
              "#d8576b"
             ],
             [
              0.6666666666666666,
              "#ed7953"
             ],
             [
              0.7777777777777778,
              "#fb9f3a"
             ],
             [
              0.8888888888888888,
              "#fdca26"
             ],
             [
              1,
              "#f0f921"
             ]
            ],
            "type": "contour"
           }
          ],
          "contourcarpet": [
           {
            "colorbar": {
             "outlinewidth": 0,
             "ticks": ""
            },
            "type": "contourcarpet"
           }
          ],
          "heatmap": [
           {
            "colorbar": {
             "outlinewidth": 0,
             "ticks": ""
            },
            "colorscale": [
             [
              0,
              "#0d0887"
             ],
             [
              0.1111111111111111,
              "#46039f"
             ],
             [
              0.2222222222222222,
              "#7201a8"
             ],
             [
              0.3333333333333333,
              "#9c179e"
             ],
             [
              0.4444444444444444,
              "#bd3786"
             ],
             [
              0.5555555555555556,
              "#d8576b"
             ],
             [
              0.6666666666666666,
              "#ed7953"
             ],
             [
              0.7777777777777778,
              "#fb9f3a"
             ],
             [
              0.8888888888888888,
              "#fdca26"
             ],
             [
              1,
              "#f0f921"
             ]
            ],
            "type": "heatmap"
           }
          ],
          "heatmapgl": [
           {
            "colorbar": {
             "outlinewidth": 0,
             "ticks": ""
            },
            "colorscale": [
             [
              0,
              "#0d0887"
             ],
             [
              0.1111111111111111,
              "#46039f"
             ],
             [
              0.2222222222222222,
              "#7201a8"
             ],
             [
              0.3333333333333333,
              "#9c179e"
             ],
             [
              0.4444444444444444,
              "#bd3786"
             ],
             [
              0.5555555555555556,
              "#d8576b"
             ],
             [
              0.6666666666666666,
              "#ed7953"
             ],
             [
              0.7777777777777778,
              "#fb9f3a"
             ],
             [
              0.8888888888888888,
              "#fdca26"
             ],
             [
              1,
              "#f0f921"
             ]
            ],
            "type": "heatmapgl"
           }
          ],
          "histogram": [
           {
            "marker": {
             "pattern": {
              "fillmode": "overlay",
              "size": 10,
              "solidity": 0.2
             }
            },
            "type": "histogram"
           }
          ],
          "histogram2d": [
           {
            "colorbar": {
             "outlinewidth": 0,
             "ticks": ""
            },
            "colorscale": [
             [
              0,
              "#0d0887"
             ],
             [
              0.1111111111111111,
              "#46039f"
             ],
             [
              0.2222222222222222,
              "#7201a8"
             ],
             [
              0.3333333333333333,
              "#9c179e"
             ],
             [
              0.4444444444444444,
              "#bd3786"
             ],
             [
              0.5555555555555556,
              "#d8576b"
             ],
             [
              0.6666666666666666,
              "#ed7953"
             ],
             [
              0.7777777777777778,
              "#fb9f3a"
             ],
             [
              0.8888888888888888,
              "#fdca26"
             ],
             [
              1,
              "#f0f921"
             ]
            ],
            "type": "histogram2d"
           }
          ],
          "histogram2dcontour": [
           {
            "colorbar": {
             "outlinewidth": 0,
             "ticks": ""
            },
            "colorscale": [
             [
              0,
              "#0d0887"
             ],
             [
              0.1111111111111111,
              "#46039f"
             ],
             [
              0.2222222222222222,
              "#7201a8"
             ],
             [
              0.3333333333333333,
              "#9c179e"
             ],
             [
              0.4444444444444444,
              "#bd3786"
             ],
             [
              0.5555555555555556,
              "#d8576b"
             ],
             [
              0.6666666666666666,
              "#ed7953"
             ],
             [
              0.7777777777777778,
              "#fb9f3a"
             ],
             [
              0.8888888888888888,
              "#fdca26"
             ],
             [
              1,
              "#f0f921"
             ]
            ],
            "type": "histogram2dcontour"
           }
          ],
          "mesh3d": [
           {
            "colorbar": {
             "outlinewidth": 0,
             "ticks": ""
            },
            "type": "mesh3d"
           }
          ],
          "parcoords": [
           {
            "line": {
             "colorbar": {
              "outlinewidth": 0,
              "ticks": ""
             }
            },
            "type": "parcoords"
           }
          ],
          "pie": [
           {
            "automargin": true,
            "type": "pie"
           }
          ],
          "scatter": [
           {
            "fillpattern": {
             "fillmode": "overlay",
             "size": 10,
             "solidity": 0.2
            },
            "type": "scatter"
           }
          ],
          "scatter3d": [
           {
            "line": {
             "colorbar": {
              "outlinewidth": 0,
              "ticks": ""
             }
            },
            "marker": {
             "colorbar": {
              "outlinewidth": 0,
              "ticks": ""
             }
            },
            "type": "scatter3d"
           }
          ],
          "scattercarpet": [
           {
            "marker": {
             "colorbar": {
              "outlinewidth": 0,
              "ticks": ""
             }
            },
            "type": "scattercarpet"
           }
          ],
          "scattergeo": [
           {
            "marker": {
             "colorbar": {
              "outlinewidth": 0,
              "ticks": ""
             }
            },
            "type": "scattergeo"
           }
          ],
          "scattergl": [
           {
            "marker": {
             "colorbar": {
              "outlinewidth": 0,
              "ticks": ""
             }
            },
            "type": "scattergl"
           }
          ],
          "scattermapbox": [
           {
            "marker": {
             "colorbar": {
              "outlinewidth": 0,
              "ticks": ""
             }
            },
            "type": "scattermapbox"
           }
          ],
          "scatterpolar": [
           {
            "marker": {
             "colorbar": {
              "outlinewidth": 0,
              "ticks": ""
             }
            },
            "type": "scatterpolar"
           }
          ],
          "scatterpolargl": [
           {
            "marker": {
             "colorbar": {
              "outlinewidth": 0,
              "ticks": ""
             }
            },
            "type": "scatterpolargl"
           }
          ],
          "scatterternary": [
           {
            "marker": {
             "colorbar": {
              "outlinewidth": 0,
              "ticks": ""
             }
            },
            "type": "scatterternary"
           }
          ],
          "surface": [
           {
            "colorbar": {
             "outlinewidth": 0,
             "ticks": ""
            },
            "colorscale": [
             [
              0,
              "#0d0887"
             ],
             [
              0.1111111111111111,
              "#46039f"
             ],
             [
              0.2222222222222222,
              "#7201a8"
             ],
             [
              0.3333333333333333,
              "#9c179e"
             ],
             [
              0.4444444444444444,
              "#bd3786"
             ],
             [
              0.5555555555555556,
              "#d8576b"
             ],
             [
              0.6666666666666666,
              "#ed7953"
             ],
             [
              0.7777777777777778,
              "#fb9f3a"
             ],
             [
              0.8888888888888888,
              "#fdca26"
             ],
             [
              1,
              "#f0f921"
             ]
            ],
            "type": "surface"
           }
          ],
          "table": [
           {
            "cells": {
             "fill": {
              "color": "#EBF0F8"
             },
             "line": {
              "color": "white"
             }
            },
            "header": {
             "fill": {
              "color": "#C8D4E3"
             },
             "line": {
              "color": "white"
             }
            },
            "type": "table"
           }
          ]
         },
         "layout": {
          "annotationdefaults": {
           "arrowcolor": "#2a3f5f",
           "arrowhead": 0,
           "arrowwidth": 1
          },
          "autotypenumbers": "strict",
          "coloraxis": {
           "colorbar": {
            "outlinewidth": 0,
            "ticks": ""
           }
          },
          "colorscale": {
           "diverging": [
            [
             0,
             "#8e0152"
            ],
            [
             0.1,
             "#c51b7d"
            ],
            [
             0.2,
             "#de77ae"
            ],
            [
             0.3,
             "#f1b6da"
            ],
            [
             0.4,
             "#fde0ef"
            ],
            [
             0.5,
             "#f7f7f7"
            ],
            [
             0.6,
             "#e6f5d0"
            ],
            [
             0.7,
             "#b8e186"
            ],
            [
             0.8,
             "#7fbc41"
            ],
            [
             0.9,
             "#4d9221"
            ],
            [
             1,
             "#276419"
            ]
           ],
           "sequential": [
            [
             0,
             "#0d0887"
            ],
            [
             0.1111111111111111,
             "#46039f"
            ],
            [
             0.2222222222222222,
             "#7201a8"
            ],
            [
             0.3333333333333333,
             "#9c179e"
            ],
            [
             0.4444444444444444,
             "#bd3786"
            ],
            [
             0.5555555555555556,
             "#d8576b"
            ],
            [
             0.6666666666666666,
             "#ed7953"
            ],
            [
             0.7777777777777778,
             "#fb9f3a"
            ],
            [
             0.8888888888888888,
             "#fdca26"
            ],
            [
             1,
             "#f0f921"
            ]
           ],
           "sequentialminus": [
            [
             0,
             "#0d0887"
            ],
            [
             0.1111111111111111,
             "#46039f"
            ],
            [
             0.2222222222222222,
             "#7201a8"
            ],
            [
             0.3333333333333333,
             "#9c179e"
            ],
            [
             0.4444444444444444,
             "#bd3786"
            ],
            [
             0.5555555555555556,
             "#d8576b"
            ],
            [
             0.6666666666666666,
             "#ed7953"
            ],
            [
             0.7777777777777778,
             "#fb9f3a"
            ],
            [
             0.8888888888888888,
             "#fdca26"
            ],
            [
             1,
             "#f0f921"
            ]
           ]
          },
          "colorway": [
           "#636efa",
           "#EF553B",
           "#00cc96",
           "#ab63fa",
           "#FFA15A",
           "#19d3f3",
           "#FF6692",
           "#B6E880",
           "#FF97FF",
           "#FECB52"
          ],
          "font": {
           "color": "#2a3f5f"
          },
          "geo": {
           "bgcolor": "white",
           "lakecolor": "white",
           "landcolor": "#E5ECF6",
           "showlakes": true,
           "showland": true,
           "subunitcolor": "white"
          },
          "hoverlabel": {
           "align": "left"
          },
          "hovermode": "closest",
          "mapbox": {
           "style": "light"
          },
          "paper_bgcolor": "white",
          "plot_bgcolor": "#E5ECF6",
          "polar": {
           "angularaxis": {
            "gridcolor": "white",
            "linecolor": "white",
            "ticks": ""
           },
           "bgcolor": "#E5ECF6",
           "radialaxis": {
            "gridcolor": "white",
            "linecolor": "white",
            "ticks": ""
           }
          },
          "scene": {
           "xaxis": {
            "backgroundcolor": "#E5ECF6",
            "gridcolor": "white",
            "gridwidth": 2,
            "linecolor": "white",
            "showbackground": true,
            "ticks": "",
            "zerolinecolor": "white"
           },
           "yaxis": {
            "backgroundcolor": "#E5ECF6",
            "gridcolor": "white",
            "gridwidth": 2,
            "linecolor": "white",
            "showbackground": true,
            "ticks": "",
            "zerolinecolor": "white"
           },
           "zaxis": {
            "backgroundcolor": "#E5ECF6",
            "gridcolor": "white",
            "gridwidth": 2,
            "linecolor": "white",
            "showbackground": true,
            "ticks": "",
            "zerolinecolor": "white"
           }
          },
          "shapedefaults": {
           "line": {
            "color": "#2a3f5f"
           }
          },
          "ternary": {
           "aaxis": {
            "gridcolor": "white",
            "linecolor": "white",
            "ticks": ""
           },
           "baxis": {
            "gridcolor": "white",
            "linecolor": "white",
            "ticks": ""
           },
           "bgcolor": "#E5ECF6",
           "caxis": {
            "gridcolor": "white",
            "linecolor": "white",
            "ticks": ""
           }
          },
          "title": {
           "x": 0.05
          },
          "xaxis": {
           "automargin": true,
           "gridcolor": "white",
           "linecolor": "white",
           "ticks": "",
           "title": {
            "standoff": 15
           },
           "zerolinecolor": "white",
           "zerolinewidth": 2
          },
          "yaxis": {
           "automargin": true,
           "gridcolor": "white",
           "linecolor": "white",
           "ticks": "",
           "title": {
            "standoff": 15
           },
           "zerolinecolor": "white",
           "zerolinewidth": 2
          }
         }
        },
        "title": {
         "text": "Average Employed Rate by Region"
        },
        "xaxis": {
         "anchor": "y",
         "categoryarray": [
          "Andhra Pradesh",
          "Assam",
          "Bihar",
          "Chandigarh",
          "Chhattisgarh",
          "Delhi",
          "Goa",
          "Gujarat",
          "Haryana",
          "Himachal Pradesh",
          "Jammu & Kashmir",
          "Jharkhand",
          "Karnataka",
          "Kerala",
          "Madhya Pradesh",
          "Maharashtra",
          "Meghalaya",
          "Odisha",
          "Puducherry",
          "Punjab",
          "Rajasthan",
          "Sikkim",
          "Tamil Nadu",
          "Telangana",
          "Tripura",
          "Uttar Pradesh",
          "Uttarakhand",
          "West Bengal"
         ],
         "categoryorder": "total descending",
         "domain": [
          0,
          1
         ],
         "title": {
          "text": "Region"
         }
        },
        "yaxis": {
         "anchor": "x",
         "domain": [
          0,
          1
         ],
         "title": {
          "text": " Estimated Employed"
         }
        }
       }
      }
     },
     "metadata": {},
     "output_type": "display_data"
    }
   ],
   "source": [
    "region = india.groupby([\"Region\"])[[' Estimated Unemployment Rate (%)', \" Estimated Employed\", \" Estimated Labour Participation Rate (%)\"]].mean()\n",
    "region = pd.DataFrame(region).reset_index()\n",
    "\n",
    "fig = px.bar(region, x=\"Region\", y=\" Estimated Employed\", color=\"Region\", title=\"Average Employed Rate by Region\")\n",
    "fig.update_layout(xaxis={'categoryorder':'total descending'})\n",
    "fig.show()"
   ]
  },
  {
   "cell_type": "code",
   "execution_count": 109,
   "metadata": {},
   "outputs": [
    {
     "data": {
      "application/vnd.plotly.v1+json": {
       "config": {
        "plotlyServerURL": "https://plot.ly"
       },
       "data": [
        {
         "branchvalues": "total",
         "customdata": [
          [
           "Andhra Pradesh"
          ],
          [
           "Gujarat"
          ],
          [
           "Goa"
          ],
          [
           "Goa"
          ],
          [
           "Delhi"
          ],
          [
           "Chhattisgarh"
          ],
          [
           "Chhattisgarh"
          ],
          [
           "Delhi"
          ],
          [
           "Bihar"
          ],
          [
           "Bihar"
          ],
          [
           "Assam"
          ],
          [
           "Assam"
          ],
          [
           "Andhra Pradesh"
          ],
          [
           "Chandigarh"
          ],
          [
           "Jharkhand"
          ],
          [
           "Kerala"
          ],
          [
           "Karnataka"
          ],
          [
           "Karnataka"
          ],
          [
           "Jharkhand"
          ],
          [
           "Jammu & Kashmir"
          ],
          [
           "Haryana"
          ],
          [
           "Himachal Pradesh"
          ],
          [
           "Himachal Pradesh"
          ],
          [
           "Haryana"
          ],
          [
           "Gujarat"
          ],
          [
           "Jammu & Kashmir"
          ],
          [
           "Odisha"
          ],
          [
           "Rajasthan"
          ],
          [
           "Punjab"
          ],
          [
           "Punjab"
          ],
          [
           "Puducherry"
          ],
          [
           "Puducherry"
          ],
          [
           "Odisha"
          ],
          [
           "Madhya Pradesh"
          ],
          [
           "Meghalaya"
          ],
          [
           "Maharashtra"
          ],
          [
           "Maharashtra"
          ],
          [
           "Madhya Pradesh"
          ],
          [
           "Kerala"
          ],
          [
           "Meghalaya"
          ],
          [
           "West Bengal"
          ],
          [
           "Uttarakhand"
          ],
          [
           "Uttarakhand"
          ],
          [
           "Uttar Pradesh"
          ],
          [
           "Uttar Pradesh"
          ],
          [
           "Tripura"
          ],
          [
           "Tripura"
          ],
          [
           "Telangana"
          ],
          [
           "Tamil Nadu"
          ],
          [
           "Tamil Nadu"
          ],
          [
           "Sikkim"
          ],
          [
           "Sikkim"
          ],
          [
           "Rajasthan"
          ],
          [
           "Telangana"
          ],
          [
           "(?)"
          ],
          [
           "West Bengal"
          ],
          [
           "(?)"
          ]
         ],
         "domain": {
          "x": [
           0,
           1
          ],
          "y": [
           0,
           1
          ]
         },
         "hovertemplate": "labels=%{label}<br> Estimated Unemployment Rate (%)=%{value}<br>parent=%{parent}<br>id=%{id}<br>Region=%{customdata[0]}<extra></extra>",
         "ids": [
          "Rural/Andhra Pradesh",
          "Rural/Gujarat",
          "Urban/Goa",
          "Rural/Goa",
          "Urban/Delhi",
          "Urban/Chhattisgarh",
          "Rural/Chhattisgarh",
          "Rural/Delhi",
          "Urban/Bihar",
          "Rural/Bihar",
          "Urban/Assam",
          "Rural/Assam",
          "Urban/Andhra Pradesh",
          "Urban/Chandigarh",
          "Rural/Jharkhand",
          "Rural/Kerala",
          "Urban/Karnataka",
          "Rural/Karnataka",
          "Urban/Jharkhand",
          "Urban/Jammu & Kashmir",
          "Urban/Haryana",
          "Urban/Himachal Pradesh",
          "Rural/Himachal Pradesh",
          "Rural/Haryana",
          "Urban/Gujarat",
          "Rural/Jammu & Kashmir",
          "Urban/Odisha",
          "Rural/Rajasthan",
          "Urban/Punjab",
          "Rural/Punjab",
          "Urban/Puducherry",
          "Rural/Puducherry",
          "Rural/Odisha",
          "Urban/Madhya Pradesh",
          "Rural/Meghalaya",
          "Urban/Maharashtra",
          "Rural/Maharashtra",
          "Rural/Madhya Pradesh",
          "Urban/Kerala",
          "Urban/Meghalaya",
          "Rural/West Bengal",
          "Urban/Uttarakhand",
          "Rural/Uttarakhand",
          "Urban/Uttar Pradesh",
          "Rural/Uttar Pradesh",
          "Urban/Tripura",
          "Rural/Tripura",
          "Rural/Telangana",
          "Urban/Tamil Nadu",
          "Rural/Tamil Nadu",
          "Urban/Sikkim",
          "Rural/Sikkim",
          "Urban/Rajasthan",
          "Urban/Telangana",
          "Rural",
          "Urban/West Bengal",
          "Urban"
         ],
         "labels": [
          "Andhra Pradesh",
          "Gujarat",
          "Goa",
          "Goa",
          "Delhi",
          "Chhattisgarh",
          "Chhattisgarh",
          "Delhi",
          "Bihar",
          "Bihar",
          "Assam",
          "Assam",
          "Andhra Pradesh",
          "Chandigarh",
          "Jharkhand",
          "Kerala",
          "Karnataka",
          "Karnataka",
          "Jharkhand",
          "Jammu & Kashmir",
          "Haryana",
          "Himachal Pradesh",
          "Himachal Pradesh",
          "Haryana",
          "Gujarat",
          "Jammu & Kashmir",
          "Odisha",
          "Rajasthan",
          "Punjab",
          "Punjab",
          "Puducherry",
          "Puducherry",
          "Odisha",
          "Madhya Pradesh",
          "Meghalaya",
          "Maharashtra",
          "Maharashtra",
          "Madhya Pradesh",
          "Kerala",
          "Meghalaya",
          "West Bengal",
          "Uttarakhand",
          "Uttarakhand",
          "Uttar Pradesh",
          "Uttar Pradesh",
          "Tripura",
          "Tripura",
          "Telangana",
          "Tamil Nadu",
          "Tamil Nadu",
          "Sikkim",
          "Sikkim",
          "Rajasthan",
          "Telangana",
          "Rural",
          "West Bengal",
          "Urban"
         ],
         "marker": {
          "colors": [
           "#636efa",
           "#EF553B",
           "#00cc96",
           "#00cc96",
           "#ab63fa",
           "#FFA15A",
           "#FFA15A",
           "#ab63fa",
           "#19d3f3",
           "#19d3f3",
           "#FF6692",
           "#FF6692",
           "#636efa",
           "#B6E880",
           "#FF97FF",
           "#FECB52",
           "#636efa",
           "#636efa",
           "#FF97FF",
           "#EF553B",
           "#00cc96",
           "#ab63fa",
           "#ab63fa",
           "#00cc96",
           "#EF553B",
           "#EF553B",
           "#FFA15A",
           "#19d3f3",
           "#FF6692",
           "#FF6692",
           "#B6E880",
           "#B6E880",
           "#FFA15A",
           "#FF97FF",
           "#FECB52",
           "#636efa",
           "#636efa",
           "#FF97FF",
           "#FECB52",
           "#FECB52",
           "#EF553B",
           "#00cc96",
           "#00cc96",
           "#ab63fa",
           "#ab63fa",
           "#FFA15A",
           "#FFA15A",
           "#19d3f3",
           "#FF6692",
           "#FF6692",
           "#B6E880",
           "#B6E880",
           "#19d3f3",
           "#19d3f3",
           "#FF97FF",
           "#EF553B",
           "#FF97FF"
          ]
         },
         "name": "",
         "parents": [
          "Rural",
          "Rural",
          "Urban",
          "Rural",
          "Urban",
          "Urban",
          "Rural",
          "Rural",
          "Urban",
          "Rural",
          "Urban",
          "Rural",
          "Urban",
          "Urban",
          "Rural",
          "Rural",
          "Urban",
          "Rural",
          "Urban",
          "Urban",
          "Urban",
          "Urban",
          "Rural",
          "Rural",
          "Urban",
          "Rural",
          "Urban",
          "Rural",
          "Urban",
          "Rural",
          "Urban",
          "Rural",
          "Rural",
          "Urban",
          "Rural",
          "Urban",
          "Rural",
          "Rural",
          "Urban",
          "Urban",
          "Rural",
          "Urban",
          "Rural",
          "Urban",
          "Rural",
          "Urban",
          "Rural",
          "Rural",
          "Urban",
          "Rural",
          "Urban",
          "Rural",
          "Urban",
          "Urban",
          "",
          "Urban",
          ""
         ],
         "type": "sunburst",
         "values": [
          77.37,
          82.84,
          121.9,
          100.68,
          248.25,
          165.93,
          92.8,
          213.62,
          294.93,
          234.78,
          113.24000000000001,
          53.89,
          131.99,
          191.9,
          213.1,
          144.78,
          85.79,
          101.14,
          363.28000000000003,
          175.49,
          385.75,
          302.07,
          217.06,
          350.18,
          103.75,
          164.47,
          65.84,
          152.98,
          169.92000000000002,
          166.95,
          178.43,
          87.16,
          92.58,
          128.23000000000002,
          34.650000000000006,
          116.27,
          95.34,
          79.15,
          138.69,
          94.92,
          106.01,
          114.27,
          63.47,
          208.52,
          142.92000000000002,
          413.48,
          380.33,
          110.09,
          137.1,
          122.86,
          97.84,
          25.4,
          240.65,
          106.57000000000001,
          3706.6,
          121.48,
          5016.48
         ]
        }
       ],
       "layout": {
        "height": 500,
        "legend": {
         "tracegroupgap": 0
        },
        "template": {
         "data": {
          "bar": [
           {
            "error_x": {
             "color": "#2a3f5f"
            },
            "error_y": {
             "color": "#2a3f5f"
            },
            "marker": {
             "line": {
              "color": "#E5ECF6",
              "width": 0.5
             },
             "pattern": {
              "fillmode": "overlay",
              "size": 10,
              "solidity": 0.2
             }
            },
            "type": "bar"
           }
          ],
          "barpolar": [
           {
            "marker": {
             "line": {
              "color": "#E5ECF6",
              "width": 0.5
             },
             "pattern": {
              "fillmode": "overlay",
              "size": 10,
              "solidity": 0.2
             }
            },
            "type": "barpolar"
           }
          ],
          "carpet": [
           {
            "aaxis": {
             "endlinecolor": "#2a3f5f",
             "gridcolor": "white",
             "linecolor": "white",
             "minorgridcolor": "white",
             "startlinecolor": "#2a3f5f"
            },
            "baxis": {
             "endlinecolor": "#2a3f5f",
             "gridcolor": "white",
             "linecolor": "white",
             "minorgridcolor": "white",
             "startlinecolor": "#2a3f5f"
            },
            "type": "carpet"
           }
          ],
          "choropleth": [
           {
            "colorbar": {
             "outlinewidth": 0,
             "ticks": ""
            },
            "type": "choropleth"
           }
          ],
          "contour": [
           {
            "colorbar": {
             "outlinewidth": 0,
             "ticks": ""
            },
            "colorscale": [
             [
              0,
              "#0d0887"
             ],
             [
              0.1111111111111111,
              "#46039f"
             ],
             [
              0.2222222222222222,
              "#7201a8"
             ],
             [
              0.3333333333333333,
              "#9c179e"
             ],
             [
              0.4444444444444444,
              "#bd3786"
             ],
             [
              0.5555555555555556,
              "#d8576b"
             ],
             [
              0.6666666666666666,
              "#ed7953"
             ],
             [
              0.7777777777777778,
              "#fb9f3a"
             ],
             [
              0.8888888888888888,
              "#fdca26"
             ],
             [
              1,
              "#f0f921"
             ]
            ],
            "type": "contour"
           }
          ],
          "contourcarpet": [
           {
            "colorbar": {
             "outlinewidth": 0,
             "ticks": ""
            },
            "type": "contourcarpet"
           }
          ],
          "heatmap": [
           {
            "colorbar": {
             "outlinewidth": 0,
             "ticks": ""
            },
            "colorscale": [
             [
              0,
              "#0d0887"
             ],
             [
              0.1111111111111111,
              "#46039f"
             ],
             [
              0.2222222222222222,
              "#7201a8"
             ],
             [
              0.3333333333333333,
              "#9c179e"
             ],
             [
              0.4444444444444444,
              "#bd3786"
             ],
             [
              0.5555555555555556,
              "#d8576b"
             ],
             [
              0.6666666666666666,
              "#ed7953"
             ],
             [
              0.7777777777777778,
              "#fb9f3a"
             ],
             [
              0.8888888888888888,
              "#fdca26"
             ],
             [
              1,
              "#f0f921"
             ]
            ],
            "type": "heatmap"
           }
          ],
          "heatmapgl": [
           {
            "colorbar": {
             "outlinewidth": 0,
             "ticks": ""
            },
            "colorscale": [
             [
              0,
              "#0d0887"
             ],
             [
              0.1111111111111111,
              "#46039f"
             ],
             [
              0.2222222222222222,
              "#7201a8"
             ],
             [
              0.3333333333333333,
              "#9c179e"
             ],
             [
              0.4444444444444444,
              "#bd3786"
             ],
             [
              0.5555555555555556,
              "#d8576b"
             ],
             [
              0.6666666666666666,
              "#ed7953"
             ],
             [
              0.7777777777777778,
              "#fb9f3a"
             ],
             [
              0.8888888888888888,
              "#fdca26"
             ],
             [
              1,
              "#f0f921"
             ]
            ],
            "type": "heatmapgl"
           }
          ],
          "histogram": [
           {
            "marker": {
             "pattern": {
              "fillmode": "overlay",
              "size": 10,
              "solidity": 0.2
             }
            },
            "type": "histogram"
           }
          ],
          "histogram2d": [
           {
            "colorbar": {
             "outlinewidth": 0,
             "ticks": ""
            },
            "colorscale": [
             [
              0,
              "#0d0887"
             ],
             [
              0.1111111111111111,
              "#46039f"
             ],
             [
              0.2222222222222222,
              "#7201a8"
             ],
             [
              0.3333333333333333,
              "#9c179e"
             ],
             [
              0.4444444444444444,
              "#bd3786"
             ],
             [
              0.5555555555555556,
              "#d8576b"
             ],
             [
              0.6666666666666666,
              "#ed7953"
             ],
             [
              0.7777777777777778,
              "#fb9f3a"
             ],
             [
              0.8888888888888888,
              "#fdca26"
             ],
             [
              1,
              "#f0f921"
             ]
            ],
            "type": "histogram2d"
           }
          ],
          "histogram2dcontour": [
           {
            "colorbar": {
             "outlinewidth": 0,
             "ticks": ""
            },
            "colorscale": [
             [
              0,
              "#0d0887"
             ],
             [
              0.1111111111111111,
              "#46039f"
             ],
             [
              0.2222222222222222,
              "#7201a8"
             ],
             [
              0.3333333333333333,
              "#9c179e"
             ],
             [
              0.4444444444444444,
              "#bd3786"
             ],
             [
              0.5555555555555556,
              "#d8576b"
             ],
             [
              0.6666666666666666,
              "#ed7953"
             ],
             [
              0.7777777777777778,
              "#fb9f3a"
             ],
             [
              0.8888888888888888,
              "#fdca26"
             ],
             [
              1,
              "#f0f921"
             ]
            ],
            "type": "histogram2dcontour"
           }
          ],
          "mesh3d": [
           {
            "colorbar": {
             "outlinewidth": 0,
             "ticks": ""
            },
            "type": "mesh3d"
           }
          ],
          "parcoords": [
           {
            "line": {
             "colorbar": {
              "outlinewidth": 0,
              "ticks": ""
             }
            },
            "type": "parcoords"
           }
          ],
          "pie": [
           {
            "automargin": true,
            "type": "pie"
           }
          ],
          "scatter": [
           {
            "fillpattern": {
             "fillmode": "overlay",
             "size": 10,
             "solidity": 0.2
            },
            "type": "scatter"
           }
          ],
          "scatter3d": [
           {
            "line": {
             "colorbar": {
              "outlinewidth": 0,
              "ticks": ""
             }
            },
            "marker": {
             "colorbar": {
              "outlinewidth": 0,
              "ticks": ""
             }
            },
            "type": "scatter3d"
           }
          ],
          "scattercarpet": [
           {
            "marker": {
             "colorbar": {
              "outlinewidth": 0,
              "ticks": ""
             }
            },
            "type": "scattercarpet"
           }
          ],
          "scattergeo": [
           {
            "marker": {
             "colorbar": {
              "outlinewidth": 0,
              "ticks": ""
             }
            },
            "type": "scattergeo"
           }
          ],
          "scattergl": [
           {
            "marker": {
             "colorbar": {
              "outlinewidth": 0,
              "ticks": ""
             }
            },
            "type": "scattergl"
           }
          ],
          "scattermapbox": [
           {
            "marker": {
             "colorbar": {
              "outlinewidth": 0,
              "ticks": ""
             }
            },
            "type": "scattermapbox"
           }
          ],
          "scatterpolar": [
           {
            "marker": {
             "colorbar": {
              "outlinewidth": 0,
              "ticks": ""
             }
            },
            "type": "scatterpolar"
           }
          ],
          "scatterpolargl": [
           {
            "marker": {
             "colorbar": {
              "outlinewidth": 0,
              "ticks": ""
             }
            },
            "type": "scatterpolargl"
           }
          ],
          "scatterternary": [
           {
            "marker": {
             "colorbar": {
              "outlinewidth": 0,
              "ticks": ""
             }
            },
            "type": "scatterternary"
           }
          ],
          "surface": [
           {
            "colorbar": {
             "outlinewidth": 0,
             "ticks": ""
            },
            "colorscale": [
             [
              0,
              "#0d0887"
             ],
             [
              0.1111111111111111,
              "#46039f"
             ],
             [
              0.2222222222222222,
              "#7201a8"
             ],
             [
              0.3333333333333333,
              "#9c179e"
             ],
             [
              0.4444444444444444,
              "#bd3786"
             ],
             [
              0.5555555555555556,
              "#d8576b"
             ],
             [
              0.6666666666666666,
              "#ed7953"
             ],
             [
              0.7777777777777778,
              "#fb9f3a"
             ],
             [
              0.8888888888888888,
              "#fdca26"
             ],
             [
              1,
              "#f0f921"
             ]
            ],
            "type": "surface"
           }
          ],
          "table": [
           {
            "cells": {
             "fill": {
              "color": "#EBF0F8"
             },
             "line": {
              "color": "white"
             }
            },
            "header": {
             "fill": {
              "color": "#C8D4E3"
             },
             "line": {
              "color": "white"
             }
            },
            "type": "table"
           }
          ]
         },
         "layout": {
          "annotationdefaults": {
           "arrowcolor": "#2a3f5f",
           "arrowhead": 0,
           "arrowwidth": 1
          },
          "autotypenumbers": "strict",
          "coloraxis": {
           "colorbar": {
            "outlinewidth": 0,
            "ticks": ""
           }
          },
          "colorscale": {
           "diverging": [
            [
             0,
             "#8e0152"
            ],
            [
             0.1,
             "#c51b7d"
            ],
            [
             0.2,
             "#de77ae"
            ],
            [
             0.3,
             "#f1b6da"
            ],
            [
             0.4,
             "#fde0ef"
            ],
            [
             0.5,
             "#f7f7f7"
            ],
            [
             0.6,
             "#e6f5d0"
            ],
            [
             0.7,
             "#b8e186"
            ],
            [
             0.8,
             "#7fbc41"
            ],
            [
             0.9,
             "#4d9221"
            ],
            [
             1,
             "#276419"
            ]
           ],
           "sequential": [
            [
             0,
             "#0d0887"
            ],
            [
             0.1111111111111111,
             "#46039f"
            ],
            [
             0.2222222222222222,
             "#7201a8"
            ],
            [
             0.3333333333333333,
             "#9c179e"
            ],
            [
             0.4444444444444444,
             "#bd3786"
            ],
            [
             0.5555555555555556,
             "#d8576b"
            ],
            [
             0.6666666666666666,
             "#ed7953"
            ],
            [
             0.7777777777777778,
             "#fb9f3a"
            ],
            [
             0.8888888888888888,
             "#fdca26"
            ],
            [
             1,
             "#f0f921"
            ]
           ],
           "sequentialminus": [
            [
             0,
             "#0d0887"
            ],
            [
             0.1111111111111111,
             "#46039f"
            ],
            [
             0.2222222222222222,
             "#7201a8"
            ],
            [
             0.3333333333333333,
             "#9c179e"
            ],
            [
             0.4444444444444444,
             "#bd3786"
            ],
            [
             0.5555555555555556,
             "#d8576b"
            ],
            [
             0.6666666666666666,
             "#ed7953"
            ],
            [
             0.7777777777777778,
             "#fb9f3a"
            ],
            [
             0.8888888888888888,
             "#fdca26"
            ],
            [
             1,
             "#f0f921"
            ]
           ]
          },
          "colorway": [
           "#636efa",
           "#EF553B",
           "#00cc96",
           "#ab63fa",
           "#FFA15A",
           "#19d3f3",
           "#FF6692",
           "#B6E880",
           "#FF97FF",
           "#FECB52"
          ],
          "font": {
           "color": "#2a3f5f"
          },
          "geo": {
           "bgcolor": "white",
           "lakecolor": "white",
           "landcolor": "#E5ECF6",
           "showlakes": true,
           "showland": true,
           "subunitcolor": "white"
          },
          "hoverlabel": {
           "align": "left"
          },
          "hovermode": "closest",
          "mapbox": {
           "style": "light"
          },
          "paper_bgcolor": "white",
          "plot_bgcolor": "#E5ECF6",
          "polar": {
           "angularaxis": {
            "gridcolor": "white",
            "linecolor": "white",
            "ticks": ""
           },
           "bgcolor": "#E5ECF6",
           "radialaxis": {
            "gridcolor": "white",
            "linecolor": "white",
            "ticks": ""
           }
          },
          "scene": {
           "xaxis": {
            "backgroundcolor": "#E5ECF6",
            "gridcolor": "white",
            "gridwidth": 2,
            "linecolor": "white",
            "showbackground": true,
            "ticks": "",
            "zerolinecolor": "white"
           },
           "yaxis": {
            "backgroundcolor": "#E5ECF6",
            "gridcolor": "white",
            "gridwidth": 2,
            "linecolor": "white",
            "showbackground": true,
            "ticks": "",
            "zerolinecolor": "white"
           },
           "zaxis": {
            "backgroundcolor": "#E5ECF6",
            "gridcolor": "white",
            "gridwidth": 2,
            "linecolor": "white",
            "showbackground": true,
            "ticks": "",
            "zerolinecolor": "white"
           }
          },
          "shapedefaults": {
           "line": {
            "color": "#2a3f5f"
           }
          },
          "ternary": {
           "aaxis": {
            "gridcolor": "white",
            "linecolor": "white",
            "ticks": ""
           },
           "baxis": {
            "gridcolor": "white",
            "linecolor": "white",
            "ticks": ""
           },
           "bgcolor": "#E5ECF6",
           "caxis": {
            "gridcolor": "white",
            "linecolor": "white",
            "ticks": ""
           }
          },
          "title": {
           "x": 0.05
          },
          "xaxis": {
           "automargin": true,
           "gridcolor": "white",
           "linecolor": "white",
           "ticks": "",
           "title": {
            "standoff": 15
           },
           "zerolinecolor": "white",
           "zerolinewidth": 2
          },
          "yaxis": {
           "automargin": true,
           "gridcolor": "white",
           "linecolor": "white",
           "ticks": "",
           "title": {
            "standoff": 15
           },
           "zerolinecolor": "white",
           "zerolinewidth": 2
          }
         }
        },
        "title": {
         "text": "Unemployment rate in every State and Area"
        }
       }
      }
     },
     "metadata": {},
     "output_type": "display_data"
    }
   ],
   "source": [
    "unemployment = india[[\"Region\", \"Area\", \" Estimated Unemployment Rate (%)\"]]\n",
    "\n",
    "fig = px.sunburst(unemployment, path=['Area','Region'], values=' Estimated Unemployment Rate (%)',\n",
    "                  title= 'Unemployment rate in every State and Area', height=500, color='Region')\n",
    "fig.show()"
   ]
  },
  {
   "cell_type": "code",
   "execution_count": 118,
   "metadata": {},
   "outputs": [
    {
     "data": {
      "image/png": "[encoded data removed]",
      "text/plain": [
       "<Figure size 800x500 with 2 Axes>"
      ]
     },
     "metadata": {},
     "output_type": "display_data"
    }
   ],
   "source": [
    "heat_maps = india[[' Estimated Unemployment Rate (%)',' Estimated Employed',' Estimated Labour Participation Rate (%)']]\n",
    "\n",
    "heat_maps = heat_maps.corr()\n",
    "\n",
    "plt.figure(figsize=(8,5))\n",
    "sns.set_context('notebook',font_scale=1)\n",
    "sns.heatmap(heat_maps, annot=True,cmap='summer');"
   ]
  },
  {
   "cell_type": "code",
   "execution_count": null,
   "metadata": {},
   "outputs": [],
   "source": []
  }
 ],
 "metadata": {
  "kernelspec": {
   "display_name": "Python 3",
   "language": "python",
   "name": "python3"
  },
  "language_info": {
   "codemirror_mode": {
    "name": "ipython",
    "version": 3
   },
   "file_extension": ".py",
   "mimetype": "text/x-python",
   "name": "python",
   "nbconvert_exporter": "python",
   "pygments_lexer": "ipython3",
   "version": "3.9.6"
  },
  "orig_nbformat": 4
 },
 "nbformat": 4,
 "nbformat_minor": 2
}
